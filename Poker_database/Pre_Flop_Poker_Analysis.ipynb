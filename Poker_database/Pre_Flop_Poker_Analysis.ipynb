{
 "cells": [
  {
   "cell_type": "code",
   "execution_count": 1,
   "id": "59d7de04",
   "metadata": {},
   "outputs": [],
   "source": [
    "import pandas as pd\n",
    "import numpy as np\n",
    "import matplotlib.pyplot as plt\n",
    "import sklearn\n",
    "from sklearn.model_selection import train_test_split as tts\n",
    "from sklearn.linear_model import LinearRegression\n",
    "from sklearn.linear_model import LogisticRegression\n"
   ]
  },
  {
   "cell_type": "code",
   "execution_count": 6,
   "id": "3cf2d793",
   "metadata": {},
   "outputs": [],
   "source": [
    "df = pd.read_csv(\"pre_flop_adjusted.txt\")"
   ]
  },
  {
   "cell_type": "code",
   "execution_count": 7,
   "id": "8c0dbd36",
   "metadata": {},
   "outputs": [
    {
     "data": {
      "text/html": [
       "<div>\n",
       "<style scoped>\n",
       "    .dataframe tbody tr th:only-of-type {\n",
       "        vertical-align: middle;\n",
       "    }\n",
       "\n",
       "    .dataframe tbody tr th {\n",
       "        vertical-align: top;\n",
       "    }\n",
       "\n",
       "    .dataframe thead th {\n",
       "        text-align: right;\n",
       "    }\n",
       "</style>\n",
       "<table border=\"1\" class=\"dataframe\">\n",
       "  <thead>\n",
       "    <tr style=\"text-align: right;\">\n",
       "      <th></th>\n",
       "      <th>i_value</th>\n",
       "      <th>j_value</th>\n",
       "      <th>distance</th>\n",
       "      <th>suited</th>\n",
       "      <th>ratio</th>\n",
       "    </tr>\n",
       "  </thead>\n",
       "  <tbody>\n",
       "    <tr>\n",
       "      <th>0</th>\n",
       "      <td>0</td>\n",
       "      <td>1</td>\n",
       "      <td>1</td>\n",
       "      <td>1</td>\n",
       "      <td>0.41542</td>\n",
       "    </tr>\n",
       "    <tr>\n",
       "      <th>1</th>\n",
       "      <td>0</td>\n",
       "      <td>2</td>\n",
       "      <td>2</td>\n",
       "      <td>1</td>\n",
       "      <td>0.36981</td>\n",
       "    </tr>\n",
       "    <tr>\n",
       "      <th>2</th>\n",
       "      <td>0</td>\n",
       "      <td>3</td>\n",
       "      <td>3</td>\n",
       "      <td>1</td>\n",
       "      <td>0.42712</td>\n",
       "    </tr>\n",
       "    <tr>\n",
       "      <th>3</th>\n",
       "      <td>0</td>\n",
       "      <td>4</td>\n",
       "      <td>4</td>\n",
       "      <td>1</td>\n",
       "      <td>0.44498</td>\n",
       "    </tr>\n",
       "    <tr>\n",
       "      <th>4</th>\n",
       "      <td>0</td>\n",
       "      <td>5</td>\n",
       "      <td>5</td>\n",
       "      <td>1</td>\n",
       "      <td>0.42635</td>\n",
       "    </tr>\n",
       "    <tr>\n",
       "      <th>...</th>\n",
       "      <td>...</td>\n",
       "      <td>...</td>\n",
       "      <td>...</td>\n",
       "      <td>...</td>\n",
       "      <td>...</td>\n",
       "    </tr>\n",
       "    <tr>\n",
       "      <th>320</th>\n",
       "      <td>9</td>\n",
       "      <td>11</td>\n",
       "      <td>2</td>\n",
       "      <td>1</td>\n",
       "      <td>0.57864</td>\n",
       "    </tr>\n",
       "    <tr>\n",
       "      <th>321</th>\n",
       "      <td>9</td>\n",
       "      <td>12</td>\n",
       "      <td>3</td>\n",
       "      <td>1</td>\n",
       "      <td>0.65998</td>\n",
       "    </tr>\n",
       "    <tr>\n",
       "      <th>322</th>\n",
       "      <td>10</td>\n",
       "      <td>11</td>\n",
       "      <td>1</td>\n",
       "      <td>1</td>\n",
       "      <td>0.60086</td>\n",
       "    </tr>\n",
       "    <tr>\n",
       "      <th>323</th>\n",
       "      <td>10</td>\n",
       "      <td>12</td>\n",
       "      <td>2</td>\n",
       "      <td>1</td>\n",
       "      <td>0.67665</td>\n",
       "    </tr>\n",
       "    <tr>\n",
       "      <th>324</th>\n",
       "      <td>11</td>\n",
       "      <td>12</td>\n",
       "      <td>1</td>\n",
       "      <td>1</td>\n",
       "      <td>0.65596</td>\n",
       "    </tr>\n",
       "  </tbody>\n",
       "</table>\n",
       "<p>325 rows × 5 columns</p>\n",
       "</div>"
      ],
      "text/plain": [
       "     i_value  j_value  distance  suited    ratio\n",
       "0          0        1         1       1  0.41542\n",
       "1          0        2         2       1  0.36981\n",
       "2          0        3         3       1  0.42712\n",
       "3          0        4         4       1  0.44498\n",
       "4          0        5         5       1  0.42635\n",
       "..       ...      ...       ...     ...      ...\n",
       "320        9       11         2       1  0.57864\n",
       "321        9       12         3       1  0.65998\n",
       "322       10       11         1       1  0.60086\n",
       "323       10       12         2       1  0.67665\n",
       "324       11       12         1       1  0.65596\n",
       "\n",
       "[325 rows x 5 columns]"
      ]
     },
     "execution_count": 7,
     "metadata": {},
     "output_type": "execute_result"
    }
   ],
   "source": [
    "df"
   ]
  },
  {
   "cell_type": "code",
   "execution_count": 27,
   "id": "d3338ee6",
   "metadata": {},
   "outputs": [
    {
     "data": {
      "text/plain": [
       "<matplotlib.collections.PathCollection at 0x212fe7a3700>"
      ]
     },
     "execution_count": 27,
     "metadata": {},
     "output_type": "execute_result"
    },
    {
     "data": {
      "image/png": "[encoded data removed]",
      "text/plain": [
       "<Figure size 432x288 with 1 Axes>"
      ]
     },
     "metadata": {
      "needs_background": "light"
     },
     "output_type": "display_data"
    }
   ],
   "source": [
    "plt.scatter(df.distance, df.ratio)"
   ]
  },
  {
   "cell_type": "code",
   "execution_count": 12,
   "id": "6ece30fd",
   "metadata": {},
   "outputs": [
    {
     "data": {
      "text/plain": [
       "<BarContainer object of 325 artists>"
      ]
     },
     "execution_count": 12,
     "metadata": {},
     "output_type": "execute_result"
    },
    {
     "data": {
      "image/png": "[encoded data removed]",
      "text/plain": [
       "<Figure size 432x288 with 1 Axes>"
      ]
     },
     "metadata": {
      "needs_background": "light"
     },
     "output_type": "display_data"
    }
   ],
   "source": [
    "plt.bar(df.distance, df.ratio)"
   ]
  },
  {
   "cell_type": "code",
   "execution_count": 9,
   "id": "d5dbf7e3",
   "metadata": {},
   "outputs": [
    {
     "data": {
      "text/plain": [
       "11"
      ]
     },
     "execution_count": 9,
     "metadata": {},
     "output_type": "execute_result"
    }
   ],
   "source": [
    "np.asarray(df.distance).max()"
   ]
  },
  {
   "cell_type": "code",
   "execution_count": 13,
   "id": "04232398",
   "metadata": {},
   "outputs": [],
   "source": [
    "df_X = df.drop([\"ratio\"], axis = 1)"
   ]
  },
  {
   "cell_type": "code",
   "execution_count": 14,
   "id": "1af38086",
   "metadata": {},
   "outputs": [
    {
     "data": {
      "text/html": [
       "<div>\n",
       "<style scoped>\n",
       "    .dataframe tbody tr th:only-of-type {\n",
       "        vertical-align: middle;\n",
       "    }\n",
       "\n",
       "    .dataframe tbody tr th {\n",
       "        vertical-align: top;\n",
       "    }\n",
       "\n",
       "    .dataframe thead th {\n",
       "        text-align: right;\n",
       "    }\n",
       "</style>\n",
       "<table border=\"1\" class=\"dataframe\">\n",
       "  <thead>\n",
       "    <tr style=\"text-align: right;\">\n",
       "      <th></th>\n",
       "      <th>i_value</th>\n",
       "      <th>j_value</th>\n",
       "      <th>distance</th>\n",
       "      <th>suited</th>\n",
       "    </tr>\n",
       "  </thead>\n",
       "  <tbody>\n",
       "    <tr>\n",
       "      <th>0</th>\n",
       "      <td>0</td>\n",
       "      <td>1</td>\n",
       "      <td>1</td>\n",
       "      <td>1</td>\n",
       "    </tr>\n",
       "    <tr>\n",
       "      <th>1</th>\n",
       "      <td>0</td>\n",
       "      <td>2</td>\n",
       "      <td>2</td>\n",
       "      <td>1</td>\n",
       "    </tr>\n",
       "    <tr>\n",
       "      <th>2</th>\n",
       "      <td>0</td>\n",
       "      <td>3</td>\n",
       "      <td>3</td>\n",
       "      <td>1</td>\n",
       "    </tr>\n",
       "    <tr>\n",
       "      <th>3</th>\n",
       "      <td>0</td>\n",
       "      <td>4</td>\n",
       "      <td>4</td>\n",
       "      <td>1</td>\n",
       "    </tr>\n",
       "    <tr>\n",
       "      <th>4</th>\n",
       "      <td>0</td>\n",
       "      <td>5</td>\n",
       "      <td>5</td>\n",
       "      <td>1</td>\n",
       "    </tr>\n",
       "    <tr>\n",
       "      <th>...</th>\n",
       "      <td>...</td>\n",
       "      <td>...</td>\n",
       "      <td>...</td>\n",
       "      <td>...</td>\n",
       "    </tr>\n",
       "    <tr>\n",
       "      <th>320</th>\n",
       "      <td>9</td>\n",
       "      <td>11</td>\n",
       "      <td>2</td>\n",
       "      <td>1</td>\n",
       "    </tr>\n",
       "    <tr>\n",
       "      <th>321</th>\n",
       "      <td>9</td>\n",
       "      <td>12</td>\n",
       "      <td>3</td>\n",
       "      <td>1</td>\n",
       "    </tr>\n",
       "    <tr>\n",
       "      <th>322</th>\n",
       "      <td>10</td>\n",
       "      <td>11</td>\n",
       "      <td>1</td>\n",
       "      <td>1</td>\n",
       "    </tr>\n",
       "    <tr>\n",
       "      <th>323</th>\n",
       "      <td>10</td>\n",
       "      <td>12</td>\n",
       "      <td>2</td>\n",
       "      <td>1</td>\n",
       "    </tr>\n",
       "    <tr>\n",
       "      <th>324</th>\n",
       "      <td>11</td>\n",
       "      <td>12</td>\n",
       "      <td>1</td>\n",
       "      <td>1</td>\n",
       "    </tr>\n",
       "  </tbody>\n",
       "</table>\n",
       "<p>325 rows × 4 columns</p>\n",
       "</div>"
      ],
      "text/plain": [
       "     i_value  j_value  distance  suited\n",
       "0          0        1         1       1\n",
       "1          0        2         2       1\n",
       "2          0        3         3       1\n",
       "3          0        4         4       1\n",
       "4          0        5         5       1\n",
       "..       ...      ...       ...     ...\n",
       "320        9       11         2       1\n",
       "321        9       12         3       1\n",
       "322       10       11         1       1\n",
       "323       10       12         2       1\n",
       "324       11       12         1       1\n",
       "\n",
       "[325 rows x 4 columns]"
      ]
     },
     "execution_count": 14,
     "metadata": {},
     "output_type": "execute_result"
    }
   ],
   "source": [
    "df_X"
   ]
  },
  {
   "cell_type": "code",
   "execution_count": 156,
   "id": "c7dd4b44",
   "metadata": {},
   "outputs": [],
   "source": [
    "X_train, X_test, y_train, y_test = tts(df_X, df.ratio, test_size = 0.2)"
   ]
  },
  {
   "cell_type": "code",
   "execution_count": 157,
   "id": "c80b19b6",
   "metadata": {},
   "outputs": [
    {
     "data": {
      "text/plain": [
       "LinearRegression()"
      ]
     },
     "execution_count": 157,
     "metadata": {},
     "output_type": "execute_result"
    }
   ],
   "source": [
    "LR = LinearRegression()\n",
    "LR.fit(X_train, y_train)"
   ]
  },
  {
   "cell_type": "code",
   "execution_count": 17,
   "id": "02ad47fc",
   "metadata": {},
   "outputs": [
    {
     "data": {
      "text/plain": [
       "0.29351900852405144"
      ]
     },
     "execution_count": 17,
     "metadata": {},
     "output_type": "execute_result"
    }
   ],
   "source": [
    "LR.score(X_test, y_test)"
   ]
  },
  {
   "cell_type": "code",
   "execution_count": 153,
   "id": "d74840ee",
   "metadata": {},
   "outputs": [],
   "source": [
    "coefs = LR.coef_"
   ]
  },
  {
   "cell_type": "code",
   "execution_count": 158,
   "id": "5a71d694",
   "metadata": {},
   "outputs": [
    {
     "data": {
      "text/plain": [
       "array([ 0.00939578,  0.00967489, -0.00013505,  0.03048827])"
      ]
     },
     "execution_count": 158,
     "metadata": {},
     "output_type": "execute_result"
    }
   ],
   "source": [
    "coefs"
   ]
  },
  {
   "cell_type": "code",
   "execution_count": 25,
   "id": "2680d61e",
   "metadata": {},
   "outputs": [
    {
     "data": {
      "text/plain": [
       "4"
      ]
     },
     "execution_count": 25,
     "metadata": {},
     "output_type": "execute_result"
    }
   ],
   "source": [
    "len(coefs)"
   ]
  },
  {
   "cell_type": "code",
   "execution_count": 161,
   "id": "e8ef815f",
   "metadata": {},
   "outputs": [
    {
     "data": {
      "text/plain": [
       "<BarContainer object of 4 artists>"
      ]
     },
     "execution_count": 161,
     "metadata": {},
     "output_type": "execute_result"
    },
    {
     "data": {
      "image/png": "[encoded data removed]",
      "text/plain": [
       "<Figure size 432x288 with 1 Axes>"
      ]
     },
     "metadata": {
      "needs_background": "light"
     },
     "output_type": "display_data"
    }
   ],
   "source": [
    "plt.bar(range(len(coefs)),coefs, tick_label = ['i_value', 'j_value', 'Distance', 'Suited'])"
   ]
  },
  {
   "cell_type": "code",
   "execution_count": 38,
   "id": "e76194ec",
   "metadata": {},
   "outputs": [],
   "source": [
    "Ace_i = pd.DataFrame(df[df.i_value == 12])\n",
    "Ace_j = pd.DataFrame(df[df.j_value == 12])\n",
    "dfs = [Ace_i, Ace_j]\n",
    "Ace = pd.concat(dfs)\n",
    "\n",
    "King_i = pd.DataFrame(df[df.i_value == 11])\n",
    "King_j = pd.DataFrame(df[df.j_value == 11])\n",
    "dfs = [King_i, King_j]\n",
    "King = pd.concat(dfs)\n",
    "\n",
    "Queen_i = pd.DataFrame(df[df.i_value == 10])\n",
    "Queen_j = pd.DataFrame(df[df.j_value == 10])\n",
    "dfs = [Queen_i, Queen_j]\n",
    "Queen = pd.concat(dfs)\n",
    "\n",
    "Jack_i = pd.DataFrame(df[df.i_value == 9])\n",
    "Jack_j = pd.DataFrame(df[df.j_value == 9])\n",
    "dfs = [Jack_i, Jack_j]\n",
    "Jack = pd.concat(dfs)\n",
    "\n",
    "Ten_i = pd.DataFrame(df[df.i_value == 8])\n",
    "Ten_j = pd.DataFrame(df[df.j_value == 8])\n",
    "dfs = [Ten_i, Ten_j]\n",
    "Ten = pd.concat(dfs)\n",
    "\n",
    "Nine_i = pd.DataFrame(df[df.i_value == 7])\n",
    "Nine_j = pd.DataFrame(df[df.j_value == 7])\n",
    "dfs = [Nine_i, Nine_j]\n",
    "Nine = pd.concat(dfs)\n",
    "\n",
    "\n",
    "Eight_i = pd.DataFrame(df[df.i_value == 6])\n",
    "Eight_j = pd.DataFrame(df[df.j_value == 6])\n",
    "dfs = [Eight_i, Eight_j]\n",
    "Eight = pd.concat(dfs)\n",
    "\n",
    "Seven_i = pd.DataFrame(df[df.i_value == 5])\n",
    "Seven_j = pd.DataFrame(df[df.j_value == 5])\n",
    "dfs = [Seven_i, Seven_j]\n",
    "Seven = pd.concat(dfs)\n",
    "\n",
    "Six_i = pd.DataFrame(df[df.i_value == 4])\n",
    "Six_j = pd.DataFrame(df[df.j_value == 4])\n",
    "dfs = [Six_i, Six_j]\n",
    "Six = pd.concat(dfs)\n",
    "\n",
    "Five_i = pd.DataFrame(df[df.i_value == 3])\n",
    "Five_j = pd.DataFrame(df[df.j_value == 3])\n",
    "dfs = [Five_i, Five_j]\n",
    "Five = pd.concat(dfs)\n",
    "\n",
    "Four_i = pd.DataFrame(df[df.i_value == 2])\n",
    "Four_j = pd.DataFrame(df[df.j_value == 2])\n",
    "dfs = [Four_i, Four_j]\n",
    "Four = pd.concat(dfs)\n",
    "\n",
    "Three_i = pd.DataFrame(df[df.i_value == 1])\n",
    "Three_j = pd.DataFrame(df[df.j_value == 1])\n",
    "dfs = [Three_i, Three_j]\n",
    "Three = pd.concat(dfs)\n",
    "\n",
    "Two_i = pd.DataFrame(df[df.i_value == 0])\n",
    "Two_j = pd.DataFrame(df[df.j_value == 0])\n",
    "dfs = [Two_i, Two_j]\n",
    "Two = pd.concat(dfs)\n",
    "\n"
   ]
  },
  {
   "cell_type": "code",
   "execution_count": 41,
   "id": "ae310893",
   "metadata": {},
   "outputs": [
    {
     "data": {
      "text/plain": [
       "(50, 5)"
      ]
     },
     "execution_count": 41,
     "metadata": {},
     "output_type": "execute_result"
    }
   ],
   "source": [
    "Ace.shape"
   ]
  },
  {
   "cell_type": "code",
   "execution_count": 42,
   "id": "a81f8731",
   "metadata": {},
   "outputs": [
    {
     "data": {
      "text/plain": [
       "(50, 5)"
      ]
     },
     "execution_count": 42,
     "metadata": {},
     "output_type": "execute_result"
    }
   ],
   "source": [
    "Two.shape"
   ]
  },
  {
   "cell_type": "code",
   "execution_count": 51,
   "id": "b6bc5f0b",
   "metadata": {},
   "outputs": [],
   "source": [
    "def find_plot_LinReg(dataframe, card_value):\n",
    "    dataframe_X = dataframe.drop([\"ratio\"], axis = 1)\n",
    "    X_train_plot, X_test_plot, y_train_plot, y_test_plot = tts(dataframe_X, dataframe.ratio, test_size = 0.2)\n",
    "    LR_card = LinearRegression()\n",
    "    LR_card.fit(X_train_plot, y_train_plot)\n",
    "    print(\"score is: \", LR_card.score(X_test_plot, y_test_plot))\n",
    "    coefs = LR_card.coef_\n",
    "    plt.bar(range(len(coefs)), coefs, tick_label = ['i_value', 'j_value', 'distance', 'suited'])\n",
    "    plt.title(card_value)\n",
    "    plt.show()\n",
    "    return coefs"
   ]
  },
  {
   "cell_type": "code",
   "execution_count": 123,
   "id": "4728874f",
   "metadata": {},
   "outputs": [
    {
     "name": "stdout",
     "output_type": "stream",
     "text": [
      "score is:  -0.40037791106886544\n"
     ]
    },
    {
     "data": {
      "image/png": "[encoded data removed]",
      "text/plain": [
       "<Figure size 432x288 with 1 Axes>"
      ]
     },
     "metadata": {
      "needs_background": "light"
     },
     "output_type": "display_data"
    }
   ],
   "source": [
    "Ace_C = find_plot_LinReg(Ace,\"Ace\")"
   ]
  },
  {
   "cell_type": "code",
   "execution_count": 147,
   "id": "3798fe1c",
   "metadata": {},
   "outputs": [
    {
     "name": "stdout",
     "output_type": "stream",
     "text": [
      "score is:  -0.0036109075562003046\n"
     ]
    },
    {
     "data": {
      "image/png": "[encoded data removed]",
      "text/plain": [
       "<Figure size 432x288 with 1 Axes>"
      ]
     },
     "metadata": {
      "needs_background": "light"
     },
     "output_type": "display_data"
    }
   ],
   "source": [
    "King_C = find_plot_LinReg(King, \"king\")"
   ]
  },
  {
   "cell_type": "code",
   "execution_count": 55,
   "id": "ff503c00",
   "metadata": {},
   "outputs": [
    {
     "name": "stdout",
     "output_type": "stream",
     "text": [
      "score is:  -0.7767044137518344\n"
     ]
    },
    {
     "data": {
      "image/png": "[encoded data removed]",
      "text/plain": [
       "<Figure size 432x288 with 1 Axes>"
      ]
     },
     "metadata": {
      "needs_background": "light"
     },
     "output_type": "display_data"
    }
   ],
   "source": [
    "Queen_C = find_plot_LinReg(Queen, \"Queen\")"
   ]
  },
  {
   "cell_type": "code",
   "execution_count": 56,
   "id": "1ea5f7aa",
   "metadata": {},
   "outputs": [
    {
     "name": "stdout",
     "output_type": "stream",
     "text": [
      "score is:  -0.2812078946140655\n"
     ]
    },
    {
     "data": {
      "image/png": "[encoded data removed]",
      "text/plain": [
       "<Figure size 432x288 with 1 Axes>"
      ]
     },
     "metadata": {
      "needs_background": "light"
     },
     "output_type": "display_data"
    }
   ],
   "source": [
    "Jack_C = find_plot_LinReg(Jack, \"Jack\")"
   ]
  },
  {
   "cell_type": "code",
   "execution_count": 57,
   "id": "c904cc7b",
   "metadata": {},
   "outputs": [
    {
     "name": "stdout",
     "output_type": "stream",
     "text": [
      "score is:  0.11033188314650122\n"
     ]
    },
    {
     "data": {
      "image/png": "[encoded data removed]",
      "text/plain": [
       "<Figure size 432x288 with 1 Axes>"
      ]
     },
     "metadata": {
      "needs_background": "light"
     },
     "output_type": "display_data"
    }
   ],
   "source": [
    "Ten_C = find_plot_LinReg(Ten, \"Ten\")"
   ]
  },
  {
   "cell_type": "code",
   "execution_count": 58,
   "id": "97ccaf8f",
   "metadata": {},
   "outputs": [
    {
     "name": "stdout",
     "output_type": "stream",
     "text": [
      "score is:  -0.2590599338593449\n"
     ]
    },
    {
     "data": {
      "image/png": "[encoded data removed]",
      "text/plain": [
       "<Figure size 432x288 with 1 Axes>"
      ]
     },
     "metadata": {
      "needs_background": "light"
     },
     "output_type": "display_data"
    }
   ],
   "source": [
    "Nine_C = find_plot_LinReg(Nine, \"Nine\")"
   ]
  },
  {
   "cell_type": "code",
   "execution_count": 59,
   "id": "d06ea09d",
   "metadata": {},
   "outputs": [
    {
     "name": "stdout",
     "output_type": "stream",
     "text": [
      "score is:  0.28688477275020163\n"
     ]
    },
    {
     "data": {
      "image/png": "[encoded data removed]",
      "text/plain": [
       "<Figure size 432x288 with 1 Axes>"
      ]
     },
     "metadata": {
      "needs_background": "light"
     },
     "output_type": "display_data"
    }
   ],
   "source": [
    "Eight_C = find_plot_LinReg(Eight, \"Eight\")"
   ]
  },
  {
   "cell_type": "code",
   "execution_count": 60,
   "id": "8aaefc90",
   "metadata": {},
   "outputs": [
    {
     "name": "stdout",
     "output_type": "stream",
     "text": [
      "score is:  -0.07183280809914572\n"
     ]
    },
    {
     "data": {
      "image/png": "[encoded data removed]",
      "text/plain": [
       "<Figure size 432x288 with 1 Axes>"
      ]
     },
     "metadata": {
      "needs_background": "light"
     },
     "output_type": "display_data"
    }
   ],
   "source": [
    "Seven_C = find_plot_LinReg(Seven, \"Seven\")"
   ]
  },
  {
   "cell_type": "code",
   "execution_count": 61,
   "id": "f7b63f7b",
   "metadata": {},
   "outputs": [
    {
     "name": "stdout",
     "output_type": "stream",
     "text": [
      "score is:  0.5149070188813101\n"
     ]
    },
    {
     "data": {
      "image/png": "[encoded data removed]",
      "text/plain": [
       "<Figure size 432x288 with 1 Axes>"
      ]
     },
     "metadata": {
      "needs_background": "light"
     },
     "output_type": "display_data"
    }
   ],
   "source": [
    "Six_C = find_plot_LinReg(Six, \"Six\")"
   ]
  },
  {
   "cell_type": "code",
   "execution_count": 62,
   "id": "a02b4a13",
   "metadata": {},
   "outputs": [
    {
     "name": "stdout",
     "output_type": "stream",
     "text": [
      "score is:  0.2921385406568616\n"
     ]
    },
    {
     "data": {
      "image/png": "[encoded data removed]",
      "text/plain": [
       "<Figure size 432x288 with 1 Axes>"
      ]
     },
     "metadata": {
      "needs_background": "light"
     },
     "output_type": "display_data"
    }
   ],
   "source": [
    "Five_C = find_plot_LinReg(Five, \"Five\")"
   ]
  },
  {
   "cell_type": "code",
   "execution_count": 63,
   "id": "872140fa",
   "metadata": {},
   "outputs": [
    {
     "name": "stdout",
     "output_type": "stream",
     "text": [
      "score is:  -0.014187348622529239\n"
     ]
    },
    {
     "data": {
      "image/png": "[encoded data removed]",
      "text/plain": [
       "<Figure size 432x288 with 1 Axes>"
      ]
     },
     "metadata": {
      "needs_background": "light"
     },
     "output_type": "display_data"
    }
   ],
   "source": [
    "Four_C = find_plot_LinReg(Four, \"Four\")"
   ]
  },
  {
   "cell_type": "code",
   "execution_count": 64,
   "id": "1e118083",
   "metadata": {},
   "outputs": [
    {
     "name": "stdout",
     "output_type": "stream",
     "text": [
      "score is:  -0.11710214269577301\n"
     ]
    },
    {
     "data": {
      "image/png": "[encoded data removed]",
      "text/plain": [
       "<Figure size 432x288 with 1 Axes>"
      ]
     },
     "metadata": {
      "needs_background": "light"
     },
     "output_type": "display_data"
    }
   ],
   "source": [
    "Three_C = find_plot_LinReg(Three, \"Three\")"
   ]
  },
  {
   "cell_type": "code",
   "execution_count": 65,
   "id": "2fcef45c",
   "metadata": {},
   "outputs": [
    {
     "name": "stdout",
     "output_type": "stream",
     "text": [
      "score is:  0.12290930968795977\n"
     ]
    },
    {
     "data": {
      "image/png": "[encoded data removed]",
      "text/plain": [
       "<Figure size 432x288 with 1 Axes>"
      ]
     },
     "metadata": {
      "needs_background": "light"
     },
     "output_type": "display_data"
    }
   ],
   "source": [
    "Two_C = find_plot_LinReg(Two, \"Two\")"
   ]
  },
  {
   "cell_type": "code",
   "execution_count": 68,
   "id": "f05a24f6",
   "metadata": {},
   "outputs": [
    {
     "ename": "AttributeError",
     "evalue": "'DataFrame' object has no attribute 'coef_'",
     "output_type": "error",
     "traceback": [
      "\u001b[1;31m---------------------------------------------------------------------------\u001b[0m",
      "\u001b[1;31mAttributeError\u001b[0m                            Traceback (most recent call last)",
      "Input \u001b[1;32mIn [68]\u001b[0m, in \u001b[0;36m<module>\u001b[1;34m\u001b[0m\n\u001b[0;32m      3\u001b[0m suited \u001b[38;5;241m=\u001b[39m []\n\u001b[0;32m      4\u001b[0m \u001b[38;5;28;01mfor\u001b[39;00m c \u001b[38;5;129;01min\u001b[39;00m cards:\n\u001b[1;32m----> 5\u001b[0m     distances\u001b[38;5;241m.\u001b[39mappend(\u001b[43mc\u001b[49m\u001b[38;5;241;43m.\u001b[39;49m\u001b[43mcoef_\u001b[49m[\u001b[38;5;241m2\u001b[39m])\n\u001b[0;32m      6\u001b[0m     suited\u001b[38;5;241m.\u001b[39mappend(c\u001b[38;5;241m.\u001b[39mcoef_[\u001b[38;5;241m3\u001b[39m])\n",
      "File \u001b[1;32m~\\AppData\\Roaming\\Python\\Python310\\site-packages\\pandas\\core\\generic.py:5583\u001b[0m, in \u001b[0;36mNDFrame.__getattr__\u001b[1;34m(self, name)\u001b[0m\n\u001b[0;32m   5576\u001b[0m \u001b[38;5;28;01mif\u001b[39;00m (\n\u001b[0;32m   5577\u001b[0m     name \u001b[38;5;129;01mnot\u001b[39;00m \u001b[38;5;129;01min\u001b[39;00m \u001b[38;5;28mself\u001b[39m\u001b[38;5;241m.\u001b[39m_internal_names_set\n\u001b[0;32m   5578\u001b[0m     \u001b[38;5;129;01mand\u001b[39;00m name \u001b[38;5;129;01mnot\u001b[39;00m \u001b[38;5;129;01min\u001b[39;00m \u001b[38;5;28mself\u001b[39m\u001b[38;5;241m.\u001b[39m_metadata\n\u001b[0;32m   5579\u001b[0m     \u001b[38;5;129;01mand\u001b[39;00m name \u001b[38;5;129;01mnot\u001b[39;00m \u001b[38;5;129;01min\u001b[39;00m \u001b[38;5;28mself\u001b[39m\u001b[38;5;241m.\u001b[39m_accessors\n\u001b[0;32m   5580\u001b[0m     \u001b[38;5;129;01mand\u001b[39;00m \u001b[38;5;28mself\u001b[39m\u001b[38;5;241m.\u001b[39m_info_axis\u001b[38;5;241m.\u001b[39m_can_hold_identifiers_and_holds_name(name)\n\u001b[0;32m   5581\u001b[0m ):\n\u001b[0;32m   5582\u001b[0m     \u001b[38;5;28;01mreturn\u001b[39;00m \u001b[38;5;28mself\u001b[39m[name]\n\u001b[1;32m-> 5583\u001b[0m \u001b[38;5;28;01mreturn\u001b[39;00m \u001b[38;5;28;43mobject\u001b[39;49m\u001b[38;5;241;43m.\u001b[39;49m\u001b[38;5;21;43m__getattribute__\u001b[39;49m\u001b[43m(\u001b[49m\u001b[38;5;28;43mself\u001b[39;49m\u001b[43m,\u001b[49m\u001b[43m \u001b[49m\u001b[43mname\u001b[49m\u001b[43m)\u001b[49m\n",
      "\u001b[1;31mAttributeError\u001b[0m: 'DataFrame' object has no attribute 'coef_'"
     ]
    }
   ],
   "source": [
    "cards = [Ace, King, Queen, Jack, Ten, Nine, Eight, Seven, Six, Five, Four, Three, Two]\n",
    "distances = []\n",
    "suited = []\n",
    "for c in cards:\n",
    "    distances.append(c.coef_[2])\n",
    "    suited.append(c.coef_[3])"
   ]
  },
  {
   "cell_type": "code",
   "execution_count": null,
   "id": "eaa16a11",
   "metadata": {},
   "outputs": [],
   "source": []
  }
 ],
 "metadata": {
  "kernelspec": {
   "display_name": "Python 3 (ipykernel)",
   "language": "python",
   "name": "python3"
  },
  "language_info": {
   "codemirror_mode": {
    "name": "ipython",
    "version": 3
   },
   "file_extension": ".py",
   "mimetype": "text/x-python",
   "name": "python",
   "nbconvert_exporter": "python",
   "pygments_lexer": "ipython3",
   "version": "3.10.2"
  }
 },
 "nbformat": 4,
 "nbformat_minor": 5
}
