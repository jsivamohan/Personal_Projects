{
 "cells": [
  {
   "cell_type": "code",
   "execution_count": 2,
   "id": "3c47ac64",
   "metadata": {},
   "outputs": [],
   "source": [
    "import pandas as pd\n",
    "import sklearn\n",
    "from sklearn.model_selection import train_test_split, cross_val_score, GridSearchCV\n",
    "from sklearn.impute import SimpleImputer\n",
    "from sklearn.svm import SVC\n",
    "from sklearn.svm import LinearSVC\n",
    "from sklearn.preprocessing import StandardScaler, PolynomialFeatures\n",
    "from sklearn.pipeline import Pipeline\n",
    "from sklearn.metrics import confusion_matrix, accuracy_score\n",
    "from sklearn.compose import ColumnTransformer\n",
    "from sklearn.linear_model import SGDClassifier, LogisticRegression\n",
    "from sklearn.ensemble import RandomForestClassifier, ExtraTreesClassifier\n",
    "import numpy as np"
   ]
  },
  {
   "cell_type": "code",
   "execution_count": 3,
   "id": "03263b77",
   "metadata": {},
   "outputs": [],
   "source": [
    "from sklearn.linear_model import LinearRegression\n",
    "from sklearn.linear_model import LogisticRegression"
   ]
  },
  {
   "cell_type": "code",
   "execution_count": 25,
   "id": "acef4741",
   "metadata": {},
   "outputs": [],
   "source": [
    "from sklearn.ensemble import RandomForestRegressor"
   ]
  },
  {
   "cell_type": "code",
   "execution_count": 4,
   "id": "52a43b44",
   "metadata": {},
   "outputs": [],
   "source": [
    "df = pd.read_csv(\"EV_correlations.txt\")"
   ]
  },
  {
   "cell_type": "code",
   "execution_count": 5,
   "id": "627377b8",
   "metadata": {},
   "outputs": [
    {
     "data": {
      "text/html": [
       "<div>\n",
       "<style scoped>\n",
       "    .dataframe tbody tr th:only-of-type {\n",
       "        vertical-align: middle;\n",
       "    }\n",
       "\n",
       "    .dataframe tbody tr th {\n",
       "        vertical-align: top;\n",
       "    }\n",
       "\n",
       "    .dataframe thead th {\n",
       "        text-align: right;\n",
       "    }\n",
       "</style>\n",
       "<table border=\"1\" class=\"dataframe\">\n",
       "  <thead>\n",
       "    <tr style=\"text-align: right;\">\n",
       "      <th></th>\n",
       "      <th>EV_Value</th>\n",
       "      <th>Win_Rate</th>\n",
       "    </tr>\n",
       "  </thead>\n",
       "  <tbody>\n",
       "    <tr>\n",
       "      <th>0</th>\n",
       "      <td>1.906750</td>\n",
       "      <td>0.81974</td>\n",
       "    </tr>\n",
       "    <tr>\n",
       "      <th>1</th>\n",
       "      <td>4.115870</td>\n",
       "      <td>0.89718</td>\n",
       "    </tr>\n",
       "    <tr>\n",
       "      <th>2</th>\n",
       "      <td>1.879090</td>\n",
       "      <td>0.57586</td>\n",
       "    </tr>\n",
       "    <tr>\n",
       "      <th>3</th>\n",
       "      <td>1.073830</td>\n",
       "      <td>0.43490</td>\n",
       "    </tr>\n",
       "    <tr>\n",
       "      <th>4</th>\n",
       "      <td>0.948198</td>\n",
       "      <td>0.34568</td>\n",
       "    </tr>\n",
       "  </tbody>\n",
       "</table>\n",
       "</div>"
      ],
      "text/plain": [
       "   EV_Value  Win_Rate\n",
       "0  1.906750   0.81974\n",
       "1  4.115870   0.89718\n",
       "2  1.879090   0.57586\n",
       "3  1.073830   0.43490\n",
       "4  0.948198   0.34568"
      ]
     },
     "execution_count": 5,
     "metadata": {},
     "output_type": "execute_result"
    }
   ],
   "source": [
    "df.head()"
   ]
  },
  {
   "cell_type": "code",
   "execution_count": 6,
   "id": "d64c361d",
   "metadata": {},
   "outputs": [
    {
     "data": {
      "text/plain": [
       "(20000, 2)"
      ]
     },
     "execution_count": 6,
     "metadata": {},
     "output_type": "execute_result"
    }
   ],
   "source": [
    "df.shape"
   ]
  },
  {
   "cell_type": "code",
   "execution_count": 7,
   "id": "b1913301",
   "metadata": {},
   "outputs": [
    {
     "data": {
      "text/plain": [
       "Index(['EV_Value', 'Win_Rate'], dtype='object')"
      ]
     },
     "execution_count": 7,
     "metadata": {},
     "output_type": "execute_result"
    }
   ],
   "source": [
    "df.columns"
   ]
  },
  {
   "cell_type": "code",
   "execution_count": 54,
   "id": "f1fcae85",
   "metadata": {},
   "outputs": [],
   "source": [
    "import matplotlib.pyplot as plt"
   ]
  },
  {
   "cell_type": "code",
   "execution_count": 9,
   "id": "a28acc0c",
   "metadata": {},
   "outputs": [
    {
     "data": {
      "image/png": "[encoded data removed]",
      "text/plain": [
       "<Figure size 432x288 with 1 Axes>"
      ]
     },
     "metadata": {
      "needs_background": "light"
     },
     "output_type": "display_data"
    }
   ],
   "source": [
    "plt.scatter(df.EV_Value, df.Win_Rate)\n",
    "plt.title(\"EV_Value vs Actual Win_Rate (over 50000 iterations)\")\n",
    "plt.xlabel('EV_Value')\n",
    "plt.ylabel('Win %')\n",
    "plt.show()"
   ]
  },
  {
   "cell_type": "code",
   "execution_count": 10,
   "id": "5059228c",
   "metadata": {},
   "outputs": [
    {
     "ename": "NameError",
     "evalue": "name 'i' is not defined",
     "output_type": "error",
     "traceback": [
      "\u001b[1;31m---------------------------------------------------------------------------\u001b[0m",
      "\u001b[1;31mNameError\u001b[0m                                 Traceback (most recent call last)",
      "Input \u001b[1;32mIn [10]\u001b[0m, in \u001b[0;36m<module>\u001b[1;34m\u001b[0m\n\u001b[1;32m----> 1\u001b[0m test \u001b[38;5;241m=\u001b[39m np\u001b[38;5;241m.\u001b[39masarray(df\u001b[38;5;241m.\u001b[39miloc[\u001b[38;5;28mrange\u001b[39m(\u001b[38;5;241m100\u001b[39m\u001b[38;5;241m*\u001b[39m\u001b[43mi\u001b[49m,\u001b[38;5;241m100\u001b[39m\u001b[38;5;241m*\u001b[39mi \u001b[38;5;241m+\u001b[39m \u001b[38;5;241m100\u001b[39m)])\n\u001b[0;32m      2\u001b[0m test[:,\u001b[38;5;241m0\u001b[39m]\n",
      "\u001b[1;31mNameError\u001b[0m: name 'i' is not defined"
     ]
    }
   ],
   "source": [
    "test = np.asarray(df.iloc[range(100*i,100*i + 100)])\n",
    "test[:,0]"
   ]
  },
  {
   "cell_type": "code",
   "execution_count": null,
   "id": "37352c56",
   "metadata": {},
   "outputs": [],
   "source": [
    "data_condensed_EV = []\n",
    "data_condensed_win = []\n",
    "sum_EV = 0\n",
    "sum_win = 0\n",
    "count = 0\n",
    "interval = int(df.shape[0]/25)\n",
    "for i in range(interval):\n",
    "    data_condensed_EV.append((np.asarray(df.iloc[range(25*i,25*i + 25)])[:,0]).mean())\n",
    "    data_condensed_win.append((np.asarray(df.iloc[range(25*i,25*i + 25)])[:,1]).mean())\n"
   ]
  },
  {
   "cell_type": "code",
   "execution_count": null,
   "id": "7fc1acc8",
   "metadata": {},
   "outputs": [],
   "source": [
    "data_condensed_EV"
   ]
  },
  {
   "cell_type": "code",
   "execution_count": null,
   "id": "85430f04",
   "metadata": {},
   "outputs": [],
   "source": [
    "straight_flush = pd.DataFrame((df[df.EV_Value >=8]))\n",
    "\n",
    "four_of_kind = pd.DataFrame(df[df.EV_Value >=7])\n",
    "four_of_kind  = pd.DataFrame(four_of_kind[four_of_kind.EV_Value <8])\n",
    "\n",
    "full_house = pd.DataFrame(df[df.EV_Value >=6])\n",
    "full_house  = pd.DataFrame(full_house[full_house.EV_Value <7])\n",
    "\n",
    "flush = pd.DataFrame(df[df.EV_Value >=5])\n",
    "flush  = pd.DataFrame(flush[flush.EV_Value <6])\n",
    "\n",
    "straight = pd.DataFrame(df[df.EV_Value >=4])\n",
    "straight  = pd.DataFrame(straight[straight.EV_Value <5])\n",
    "\n",
    "three_of_kind = pd.DataFrame(df[df.EV_Value >=3])\n",
    "three_of_kind  = pd.DataFrame(three_of_kind[three_of_kind.EV_Value <4])\n",
    "\n",
    "two_pair = pd.DataFrame(df[df.EV_Value >=2])\n",
    "two_pair  = pd.DataFrame(two_pair[two_pair.EV_Value <3])\n",
    "\n",
    "one_pair = pd.DataFrame(df[df.EV_Value >=1])\n",
    "one_pair  = pd.DataFrame(one_pair[one_pair.EV_Value <2])\n",
    "\n",
    "\n",
    "high_card = pd.DataFrame(df[df.EV_Value <1])\n"
   ]
  },
  {
   "cell_type": "code",
   "execution_count": null,
   "id": "0f7e687f",
   "metadata": {},
   "outputs": [],
   "source": [
    "\n",
    "plt.scatter(high_card.EV_Value, high_card.Win_Rate)\n",
    "plt.title('High Card')"
   ]
  },
  {
   "cell_type": "code",
   "execution_count": null,
   "id": "43ec64ba",
   "metadata": {},
   "outputs": [],
   "source": [
    "plt.scatter(one_pair.EV_Value, one_pair.Win_Rate)\n",
    "plt.title('one_pair')"
   ]
  },
  {
   "cell_type": "code",
   "execution_count": null,
   "id": "be6a1eca",
   "metadata": {},
   "outputs": [],
   "source": [
    "plt.scatter(two_pair.EV_Value, two_pair.Win_Rate)\n",
    "plt.title('two_pair')"
   ]
  },
  {
   "cell_type": "code",
   "execution_count": null,
   "id": "9d2dcdb1",
   "metadata": {},
   "outputs": [],
   "source": [
    "plt.scatter(three_of_kind.EV_Value, three_of_kind.Win_Rate)\n",
    "plt.title('three_of_kind')"
   ]
  },
  {
   "cell_type": "code",
   "execution_count": null,
   "id": "78ae8820",
   "metadata": {},
   "outputs": [],
   "source": [
    "plt.scatter(straight.EV_Value, straight.Win_Rate)\n",
    "plt.title('straight')"
   ]
  },
  {
   "cell_type": "code",
   "execution_count": null,
   "id": "d197119b",
   "metadata": {},
   "outputs": [],
   "source": [
    "plt.scatter(flush.EV_Value, flush.Win_Rate)\n",
    "plt.title('flush')"
   ]
  },
  {
   "cell_type": "code",
   "execution_count": null,
   "id": "eb29c65e",
   "metadata": {},
   "outputs": [],
   "source": [
    "plt.scatter(full_house.EV_Value, full_house.Win_Rate)\n",
    "plt.title('full_house')"
   ]
  },
  {
   "cell_type": "code",
   "execution_count": null,
   "id": "c14436b9",
   "metadata": {},
   "outputs": [],
   "source": [
    "plt.scatter(four_of_kind.EV_Value, four_of_kind.Win_Rate)\n",
    "plt.title('four_of_kind')"
   ]
  },
  {
   "cell_type": "code",
   "execution_count": null,
   "id": "e194de91",
   "metadata": {},
   "outputs": [],
   "source": [
    "plt.scatter(straight_flush.EV_Value, straight_flush.Win_Rate)\n",
    "plt.title('straight_flush')"
   ]
  },
  {
   "cell_type": "code",
   "execution_count": null,
   "id": "7be5e0ce",
   "metadata": {},
   "outputs": [],
   "source": [
    "df.head()"
   ]
  },
  {
   "cell_type": "code",
   "execution_count": null,
   "id": "4f960a38",
   "metadata": {},
   "outputs": [],
   "source": [
    "(np.asarray(df.EV_Value)).max()"
   ]
  },
  {
   "cell_type": "code",
   "execution_count": null,
   "id": "7f52ba35",
   "metadata": {},
   "outputs": [],
   "source": [
    "win_rate_buckets = []\n",
    "for i in range(40):\n",
    "    buckets = pd.DataFrame(df[df.EV_Value >= (i * 0.2)])\n",
    "    buckets = pd.DataFrame(buckets[buckets.EV_Value <((i+1)* 0.2)])\n",
    "    win_rate_buckets.append((np.asarray(buckets.Win_Rate)).mean())"
   ]
  },
  {
   "cell_type": "code",
   "execution_count": null,
   "id": "6df2a539",
   "metadata": {},
   "outputs": [],
   "source": [
    "win_rate_buckets"
   ]
  },
  {
   "cell_type": "code",
   "execution_count": null,
   "id": "209dcd3e",
   "metadata": {},
   "outputs": [],
   "source": [
    "intervals = np.asarray(range(40))\n",
    "\n",
    "plt.bar(intervals *0.2, win_rate_buckets, width = 0.15)\n",
    "plt.title(\"EV Value vs Win rate\")\n",
    "plt.xlabel(\"EV value\")\n",
    "plt.ylabel(\"win rate\")"
   ]
  },
  {
   "cell_type": "code",
   "execution_count": null,
   "id": "eee817a8",
   "metadata": {},
   "outputs": [],
   "source": [
    "lower_rate_buckets = []\n",
    "for i in range(20):\n",
    "    buckets = pd.DataFrame(df[df.EV_Value >= (i * 0.2)])\n",
    "    buckets = pd.DataFrame(buckets[buckets.EV_Value <((i+1)* 0.2)])\n",
    "    lower_rate_buckets.append((np.asarray(buckets.Win_Rate)).mean())"
   ]
  },
  {
   "cell_type": "code",
   "execution_count": null,
   "id": "bc02108a",
   "metadata": {},
   "outputs": [],
   "source": [
    "lower_rate_buckets"
   ]
  },
  {
   "cell_type": "code",
   "execution_count": null,
   "id": "45fd1f4f",
   "metadata": {},
   "outputs": [],
   "source": [
    "plt.bar((np.asarray(range(20))*0.2), lower_rate_buckets, width = 0.15)\n",
    "plt.title(\"EV Value vs Win rate\")\n",
    "plt.xlabel(\"EV value\")\n",
    "plt.ylabel(\"win rate\")"
   ]
  },
  {
   "cell_type": "code",
   "execution_count": null,
   "id": "ba3e8db7",
   "metadata": {},
   "outputs": [],
   "source": [
    "df_lower = pd.DataFrame(df[df.EV_Value <=4])"
   ]
  },
  {
   "cell_type": "code",
   "execution_count": null,
   "id": "71e90e9c",
   "metadata": {},
   "outputs": [],
   "source": [
    "df_lower.shape"
   ]
  },
  {
   "cell_type": "code",
   "execution_count": null,
   "id": "c4bdb65e",
   "metadata": {},
   "outputs": [],
   "source": [
    "EV_Values = (np.asarray(df_lower.EV_Value)).reshape(-1,1)"
   ]
  },
  {
   "cell_type": "code",
   "execution_count": null,
   "id": "4f719304",
   "metadata": {},
   "outputs": [],
   "source": [
    "X_train, X_test, y_train, y_test = train_test_split(EV_Values, df_lower.Win_Rate, test_size = 0.2, random_state = 42)"
   ]
  },
  {
   "cell_type": "code",
   "execution_count": null,
   "id": "864d72af",
   "metadata": {},
   "outputs": [],
   "source": [
    "LR = LinearRegression()\n",
    "LR.fit(X_train, y_train)"
   ]
  },
  {
   "cell_type": "code",
   "execution_count": null,
   "id": "255437ca",
   "metadata": {},
   "outputs": [],
   "source": [
    "LR.score(X_test,y_test)"
   ]
  },
  {
   "cell_type": "code",
   "execution_count": 13,
   "id": "e92c305e",
   "metadata": {},
   "outputs": [],
   "source": [
    "df_new = pd.read_csv(\"EV_new_correlations.txt\")"
   ]
  },
  {
   "cell_type": "code",
   "execution_count": 14,
   "id": "90806333",
   "metadata": {},
   "outputs": [
    {
     "data": {
      "text/html": [
       "<div>\n",
       "<style scoped>\n",
       "    .dataframe tbody tr th:only-of-type {\n",
       "        vertical-align: middle;\n",
       "    }\n",
       "\n",
       "    .dataframe tbody tr th {\n",
       "        vertical-align: top;\n",
       "    }\n",
       "\n",
       "    .dataframe thead th {\n",
       "        text-align: right;\n",
       "    }\n",
       "</style>\n",
       "<table border=\"1\" class=\"dataframe\">\n",
       "  <thead>\n",
       "    <tr style=\"text-align: right;\">\n",
       "      <th></th>\n",
       "      <th>EV</th>\n",
       "      <th>win_rate</th>\n",
       "    </tr>\n",
       "  </thead>\n",
       "  <tbody>\n",
       "    <tr>\n",
       "      <th>0</th>\n",
       "      <td>0.598156</td>\n",
       "      <td>0.81932</td>\n",
       "    </tr>\n",
       "    <tr>\n",
       "      <th>1</th>\n",
       "      <td>0.743758</td>\n",
       "      <td>0.89804</td>\n",
       "    </tr>\n",
       "    <tr>\n",
       "      <th>2</th>\n",
       "      <td>0.483846</td>\n",
       "      <td>0.57604</td>\n",
       "    </tr>\n",
       "    <tr>\n",
       "      <th>3</th>\n",
       "      <td>0.350145</td>\n",
       "      <td>0.43400</td>\n",
       "    </tr>\n",
       "    <tr>\n",
       "      <th>4</th>\n",
       "      <td>0.336299</td>\n",
       "      <td>0.34580</td>\n",
       "    </tr>\n",
       "    <tr>\n",
       "      <th>...</th>\n",
       "      <td>...</td>\n",
       "      <td>...</td>\n",
       "    </tr>\n",
       "    <tr>\n",
       "      <th>19995</th>\n",
       "      <td>0.473816</td>\n",
       "      <td>0.64316</td>\n",
       "    </tr>\n",
       "    <tr>\n",
       "      <th>19996</th>\n",
       "      <td>0.314353</td>\n",
       "      <td>0.33732</td>\n",
       "    </tr>\n",
       "    <tr>\n",
       "      <th>19997</th>\n",
       "      <td>0.489648</td>\n",
       "      <td>0.29204</td>\n",
       "    </tr>\n",
       "    <tr>\n",
       "      <th>19998</th>\n",
       "      <td>0.379183</td>\n",
       "      <td>0.18552</td>\n",
       "    </tr>\n",
       "    <tr>\n",
       "      <th>19999</th>\n",
       "      <td>0.598174</td>\n",
       "      <td>0.81168</td>\n",
       "    </tr>\n",
       "  </tbody>\n",
       "</table>\n",
       "<p>20000 rows × 2 columns</p>\n",
       "</div>"
      ],
      "text/plain": [
       "             EV  win_rate\n",
       "0      0.598156   0.81932\n",
       "1      0.743758   0.89804\n",
       "2      0.483846   0.57604\n",
       "3      0.350145   0.43400\n",
       "4      0.336299   0.34580\n",
       "...         ...       ...\n",
       "19995  0.473816   0.64316\n",
       "19996  0.314353   0.33732\n",
       "19997  0.489648   0.29204\n",
       "19998  0.379183   0.18552\n",
       "19999  0.598174   0.81168\n",
       "\n",
       "[20000 rows x 2 columns]"
      ]
     },
     "execution_count": 14,
     "metadata": {},
     "output_type": "execute_result"
    }
   ],
   "source": [
    "df_new"
   ]
  },
  {
   "cell_type": "code",
   "execution_count": 15,
   "id": "1e9a02d0",
   "metadata": {},
   "outputs": [
    {
     "data": {
      "text/plain": [
       "<matplotlib.collections.PathCollection at 0x20ff2e08c70>"
      ]
     },
     "execution_count": 15,
     "metadata": {},
     "output_type": "execute_result"
    },
    {
     "data": {
      "image/png": "[encoded data removed]",
      "text/plain": [
       "<Figure size 432x288 with 1 Axes>"
      ]
     },
     "metadata": {
      "needs_background": "light"
     },
     "output_type": "display_data"
    }
   ],
   "source": [
    "plt.scatter(df_new.EV, df_new.win_rate)"
   ]
  },
  {
   "cell_type": "code",
   "execution_count": 19,
   "id": "8fb7ca27",
   "metadata": {},
   "outputs": [],
   "source": [
    "X_train_adjusted, X_test_adjusted, y_train_adjusted, y_test_adjusted = train_test_split(np.asarray(df_new.EV).reshape(-1,1), df_new.win_rate, test_size = 0.2)"
   ]
  },
  {
   "cell_type": "code",
   "execution_count": 21,
   "id": "785261c5",
   "metadata": {},
   "outputs": [
    {
     "data": {
      "text/plain": [
       "LinearRegression()"
      ]
     },
     "execution_count": 21,
     "metadata": {},
     "output_type": "execute_result"
    }
   ],
   "source": [
    "LR = LinearRegression()\n",
    "LR.fit(X_train_adjusted, y_train_adjusted)"
   ]
  },
  {
   "cell_type": "code",
   "execution_count": 23,
   "id": "cafaebc9",
   "metadata": {},
   "outputs": [
    {
     "data": {
      "text/plain": [
       "0.5873405652239606"
      ]
     },
     "execution_count": 23,
     "metadata": {},
     "output_type": "execute_result"
    }
   ],
   "source": [
    "LR.score(X_test_adjusted, y_test_adjusted)"
   ]
  },
  {
   "cell_type": "code",
   "execution_count": 24,
   "id": "9d9e08d1",
   "metadata": {},
   "outputs": [],
   "source": [
    "EV_log = np.log(np.asarray(df_new.EV))"
   ]
  },
  {
   "cell_type": "code",
   "execution_count": 44,
   "id": "007888df",
   "metadata": {},
   "outputs": [],
   "source": [
    "df_new_log = df_new\n",
    "df_new_log[\"EV_log\"] = EV_log"
   ]
  },
  {
   "cell_type": "code",
   "execution_count": 45,
   "id": "a980a130",
   "metadata": {},
   "outputs": [
    {
     "data": {
      "text/html": [
       "<div>\n",
       "<style scoped>\n",
       "    .dataframe tbody tr th:only-of-type {\n",
       "        vertical-align: middle;\n",
       "    }\n",
       "\n",
       "    .dataframe tbody tr th {\n",
       "        vertical-align: top;\n",
       "    }\n",
       "\n",
       "    .dataframe thead th {\n",
       "        text-align: right;\n",
       "    }\n",
       "</style>\n",
       "<table border=\"1\" class=\"dataframe\">\n",
       "  <thead>\n",
       "    <tr style=\"text-align: right;\">\n",
       "      <th></th>\n",
       "      <th>EV</th>\n",
       "      <th>win_rate</th>\n",
       "      <th>EV_log</th>\n",
       "    </tr>\n",
       "  </thead>\n",
       "  <tbody>\n",
       "    <tr>\n",
       "      <th>0</th>\n",
       "      <td>0.598156</td>\n",
       "      <td>0.81932</td>\n",
       "      <td>-0.513904</td>\n",
       "    </tr>\n",
       "    <tr>\n",
       "      <th>1</th>\n",
       "      <td>0.743758</td>\n",
       "      <td>0.89804</td>\n",
       "      <td>-0.296040</td>\n",
       "    </tr>\n",
       "    <tr>\n",
       "      <th>2</th>\n",
       "      <td>0.483846</td>\n",
       "      <td>0.57604</td>\n",
       "      <td>-0.725989</td>\n",
       "    </tr>\n",
       "    <tr>\n",
       "      <th>3</th>\n",
       "      <td>0.350145</td>\n",
       "      <td>0.43400</td>\n",
       "      <td>-1.049408</td>\n",
       "    </tr>\n",
       "    <tr>\n",
       "      <th>4</th>\n",
       "      <td>0.336299</td>\n",
       "      <td>0.34580</td>\n",
       "      <td>-1.089755</td>\n",
       "    </tr>\n",
       "    <tr>\n",
       "      <th>...</th>\n",
       "      <td>...</td>\n",
       "      <td>...</td>\n",
       "      <td>...</td>\n",
       "    </tr>\n",
       "    <tr>\n",
       "      <th>19995</th>\n",
       "      <td>0.473816</td>\n",
       "      <td>0.64316</td>\n",
       "      <td>-0.746936</td>\n",
       "    </tr>\n",
       "    <tr>\n",
       "      <th>19996</th>\n",
       "      <td>0.314353</td>\n",
       "      <td>0.33732</td>\n",
       "      <td>-1.157239</td>\n",
       "    </tr>\n",
       "    <tr>\n",
       "      <th>19997</th>\n",
       "      <td>0.489648</td>\n",
       "      <td>0.29204</td>\n",
       "      <td>-0.714069</td>\n",
       "    </tr>\n",
       "    <tr>\n",
       "      <th>19998</th>\n",
       "      <td>0.379183</td>\n",
       "      <td>0.18552</td>\n",
       "      <td>-0.969736</td>\n",
       "    </tr>\n",
       "    <tr>\n",
       "      <th>19999</th>\n",
       "      <td>0.598174</td>\n",
       "      <td>0.81168</td>\n",
       "      <td>-0.513874</td>\n",
       "    </tr>\n",
       "  </tbody>\n",
       "</table>\n",
       "<p>20000 rows × 3 columns</p>\n",
       "</div>"
      ],
      "text/plain": [
       "             EV  win_rate    EV_log\n",
       "0      0.598156   0.81932 -0.513904\n",
       "1      0.743758   0.89804 -0.296040\n",
       "2      0.483846   0.57604 -0.725989\n",
       "3      0.350145   0.43400 -1.049408\n",
       "4      0.336299   0.34580 -1.089755\n",
       "...         ...       ...       ...\n",
       "19995  0.473816   0.64316 -0.746936\n",
       "19996  0.314353   0.33732 -1.157239\n",
       "19997  0.489648   0.29204 -0.714069\n",
       "19998  0.379183   0.18552 -0.969736\n",
       "19999  0.598174   0.81168 -0.513874\n",
       "\n",
       "[20000 rows x 3 columns]"
      ]
     },
     "execution_count": 45,
     "metadata": {},
     "output_type": "execute_result"
    }
   ],
   "source": [
    "df_new_log"
   ]
  },
  {
   "cell_type": "code",
   "execution_count": 46,
   "id": "375e96f2",
   "metadata": {},
   "outputs": [
    {
     "data": {
      "text/html": [
       "<div>\n",
       "<style scoped>\n",
       "    .dataframe tbody tr th:only-of-type {\n",
       "        vertical-align: middle;\n",
       "    }\n",
       "\n",
       "    .dataframe tbody tr th {\n",
       "        vertical-align: top;\n",
       "    }\n",
       "\n",
       "    .dataframe thead th {\n",
       "        text-align: right;\n",
       "    }\n",
       "</style>\n",
       "<table border=\"1\" class=\"dataframe\">\n",
       "  <thead>\n",
       "    <tr style=\"text-align: right;\">\n",
       "      <th></th>\n",
       "      <th>EV</th>\n",
       "      <th>win_rate</th>\n",
       "      <th>EV_log</th>\n",
       "    </tr>\n",
       "  </thead>\n",
       "  <tbody>\n",
       "    <tr>\n",
       "      <th>0</th>\n",
       "      <td>0.598156</td>\n",
       "      <td>0.81932</td>\n",
       "      <td>-0.513904</td>\n",
       "    </tr>\n",
       "    <tr>\n",
       "      <th>1</th>\n",
       "      <td>0.743758</td>\n",
       "      <td>0.89804</td>\n",
       "      <td>-0.296040</td>\n",
       "    </tr>\n",
       "    <tr>\n",
       "      <th>2</th>\n",
       "      <td>0.483846</td>\n",
       "      <td>0.57604</td>\n",
       "      <td>-0.725989</td>\n",
       "    </tr>\n",
       "    <tr>\n",
       "      <th>3</th>\n",
       "      <td>0.350145</td>\n",
       "      <td>0.43400</td>\n",
       "      <td>-1.049408</td>\n",
       "    </tr>\n",
       "    <tr>\n",
       "      <th>4</th>\n",
       "      <td>0.336299</td>\n",
       "      <td>0.34580</td>\n",
       "      <td>-1.089755</td>\n",
       "    </tr>\n",
       "    <tr>\n",
       "      <th>...</th>\n",
       "      <td>...</td>\n",
       "      <td>...</td>\n",
       "      <td>...</td>\n",
       "    </tr>\n",
       "    <tr>\n",
       "      <th>19995</th>\n",
       "      <td>0.473816</td>\n",
       "      <td>0.64316</td>\n",
       "      <td>-0.746936</td>\n",
       "    </tr>\n",
       "    <tr>\n",
       "      <th>19996</th>\n",
       "      <td>0.314353</td>\n",
       "      <td>0.33732</td>\n",
       "      <td>-1.157239</td>\n",
       "    </tr>\n",
       "    <tr>\n",
       "      <th>19997</th>\n",
       "      <td>0.489648</td>\n",
       "      <td>0.29204</td>\n",
       "      <td>-0.714069</td>\n",
       "    </tr>\n",
       "    <tr>\n",
       "      <th>19998</th>\n",
       "      <td>0.379183</td>\n",
       "      <td>0.18552</td>\n",
       "      <td>-0.969736</td>\n",
       "    </tr>\n",
       "    <tr>\n",
       "      <th>19999</th>\n",
       "      <td>0.598174</td>\n",
       "      <td>0.81168</td>\n",
       "      <td>-0.513874</td>\n",
       "    </tr>\n",
       "  </tbody>\n",
       "</table>\n",
       "<p>20000 rows × 3 columns</p>\n",
       "</div>"
      ],
      "text/plain": [
       "             EV  win_rate    EV_log\n",
       "0      0.598156   0.81932 -0.513904\n",
       "1      0.743758   0.89804 -0.296040\n",
       "2      0.483846   0.57604 -0.725989\n",
       "3      0.350145   0.43400 -1.049408\n",
       "4      0.336299   0.34580 -1.089755\n",
       "...         ...       ...       ...\n",
       "19995  0.473816   0.64316 -0.746936\n",
       "19996  0.314353   0.33732 -1.157239\n",
       "19997  0.489648   0.29204 -0.714069\n",
       "19998  0.379183   0.18552 -0.969736\n",
       "19999  0.598174   0.81168 -0.513874\n",
       "\n",
       "[20000 rows x 3 columns]"
      ]
     },
     "execution_count": 46,
     "metadata": {},
     "output_type": "execute_result"
    }
   ],
   "source": [
    "df_new\n"
   ]
  },
  {
   "cell_type": "code",
   "execution_count": 28,
   "id": "6cb809bf",
   "metadata": {},
   "outputs": [],
   "source": [
    "df_new_log_train = df_new_log.drop([\"win_rate\"], axis = 1)"
   ]
  },
  {
   "cell_type": "code",
   "execution_count": 29,
   "id": "4084f15c",
   "metadata": {},
   "outputs": [],
   "source": [
    "X_train_adj_log, X_test_adj_log, y_train_adj_log, y_test_adj_log = train_test_split(df_new_log_train, df_new_log.win_rate, test_size = 0.2)"
   ]
  },
  {
   "cell_type": "code",
   "execution_count": 33,
   "id": "97e0b5ab",
   "metadata": {},
   "outputs": [
    {
     "data": {
      "text/plain": [
       "LinearRegression()"
      ]
     },
     "execution_count": 33,
     "metadata": {},
     "output_type": "execute_result"
    }
   ],
   "source": [
    "LR_adj_log = LinearRegression()\n",
    "LR_adj_log.fit(X_train_adj_log, y_train_adj_log)"
   ]
  },
  {
   "cell_type": "code",
   "execution_count": 34,
   "id": "265432d1",
   "metadata": {},
   "outputs": [
    {
     "data": {
      "text/plain": [
       "0.6122399726362411"
      ]
     },
     "execution_count": 34,
     "metadata": {},
     "output_type": "execute_result"
    }
   ],
   "source": [
    "LR_adj_log.score(X_test_adj_log, y_test_adj_log)"
   ]
  },
  {
   "cell_type": "code",
   "execution_count": 35,
   "id": "07ee9b17",
   "metadata": {},
   "outputs": [
    {
     "data": {
      "text/plain": [
       "array([0.91468035, 0.21635275])"
      ]
     },
     "execution_count": 35,
     "metadata": {},
     "output_type": "execute_result"
    }
   ],
   "source": [
    "LR_adj_log.coef_"
   ]
  },
  {
   "cell_type": "code",
   "execution_count": 47,
   "id": "62f6bfaa",
   "metadata": {},
   "outputs": [],
   "source": [
    "df_new_under_4 = df_new[df_new.EV < 0.7]"
   ]
  },
  {
   "cell_type": "code",
   "execution_count": 48,
   "id": "45859f35",
   "metadata": {},
   "outputs": [
    {
     "data": {
      "text/html": [
       "<div>\n",
       "<style scoped>\n",
       "    .dataframe tbody tr th:only-of-type {\n",
       "        vertical-align: middle;\n",
       "    }\n",
       "\n",
       "    .dataframe tbody tr th {\n",
       "        vertical-align: top;\n",
       "    }\n",
       "\n",
       "    .dataframe thead th {\n",
       "        text-align: right;\n",
       "    }\n",
       "</style>\n",
       "<table border=\"1\" class=\"dataframe\">\n",
       "  <thead>\n",
       "    <tr style=\"text-align: right;\">\n",
       "      <th></th>\n",
       "      <th>EV</th>\n",
       "      <th>win_rate</th>\n",
       "      <th>EV_log</th>\n",
       "    </tr>\n",
       "  </thead>\n",
       "  <tbody>\n",
       "    <tr>\n",
       "      <th>0</th>\n",
       "      <td>0.598156</td>\n",
       "      <td>0.81932</td>\n",
       "      <td>-0.513904</td>\n",
       "    </tr>\n",
       "    <tr>\n",
       "      <th>2</th>\n",
       "      <td>0.483846</td>\n",
       "      <td>0.57604</td>\n",
       "      <td>-0.725989</td>\n",
       "    </tr>\n",
       "    <tr>\n",
       "      <th>3</th>\n",
       "      <td>0.350145</td>\n",
       "      <td>0.43400</td>\n",
       "      <td>-1.049408</td>\n",
       "    </tr>\n",
       "    <tr>\n",
       "      <th>4</th>\n",
       "      <td>0.336299</td>\n",
       "      <td>0.34580</td>\n",
       "      <td>-1.089755</td>\n",
       "    </tr>\n",
       "    <tr>\n",
       "      <th>5</th>\n",
       "      <td>0.382169</td>\n",
       "      <td>0.35716</td>\n",
       "      <td>-0.961892</td>\n",
       "    </tr>\n",
       "    <tr>\n",
       "      <th>...</th>\n",
       "      <td>...</td>\n",
       "      <td>...</td>\n",
       "      <td>...</td>\n",
       "    </tr>\n",
       "    <tr>\n",
       "      <th>19995</th>\n",
       "      <td>0.473816</td>\n",
       "      <td>0.64316</td>\n",
       "      <td>-0.746936</td>\n",
       "    </tr>\n",
       "    <tr>\n",
       "      <th>19996</th>\n",
       "      <td>0.314353</td>\n",
       "      <td>0.33732</td>\n",
       "      <td>-1.157239</td>\n",
       "    </tr>\n",
       "    <tr>\n",
       "      <th>19997</th>\n",
       "      <td>0.489648</td>\n",
       "      <td>0.29204</td>\n",
       "      <td>-0.714069</td>\n",
       "    </tr>\n",
       "    <tr>\n",
       "      <th>19998</th>\n",
       "      <td>0.379183</td>\n",
       "      <td>0.18552</td>\n",
       "      <td>-0.969736</td>\n",
       "    </tr>\n",
       "    <tr>\n",
       "      <th>19999</th>\n",
       "      <td>0.598174</td>\n",
       "      <td>0.81168</td>\n",
       "      <td>-0.513874</td>\n",
       "    </tr>\n",
       "  </tbody>\n",
       "</table>\n",
       "<p>19260 rows × 3 columns</p>\n",
       "</div>"
      ],
      "text/plain": [
       "             EV  win_rate    EV_log\n",
       "0      0.598156   0.81932 -0.513904\n",
       "2      0.483846   0.57604 -0.725989\n",
       "3      0.350145   0.43400 -1.049408\n",
       "4      0.336299   0.34580 -1.089755\n",
       "5      0.382169   0.35716 -0.961892\n",
       "...         ...       ...       ...\n",
       "19995  0.473816   0.64316 -0.746936\n",
       "19996  0.314353   0.33732 -1.157239\n",
       "19997  0.489648   0.29204 -0.714069\n",
       "19998  0.379183   0.18552 -0.969736\n",
       "19999  0.598174   0.81168 -0.513874\n",
       "\n",
       "[19260 rows x 3 columns]"
      ]
     },
     "execution_count": 48,
     "metadata": {},
     "output_type": "execute_result"
    }
   ],
   "source": [
    "df_new_under_4"
   ]
  },
  {
   "cell_type": "code",
   "execution_count": 49,
   "id": "533bf91d",
   "metadata": {},
   "outputs": [],
   "source": [
    "df_new_under_4_train = df_new_under_4.drop(['win_rate'], axis = 1)"
   ]
  },
  {
   "cell_type": "code",
   "execution_count": 50,
   "id": "a0c063cf",
   "metadata": {},
   "outputs": [],
   "source": [
    "X_train, X_test, y_train, y_test = train_test_split(df_new_under_4_train, df_new_under_4.win_rate, test_size = 0.2)"
   ]
  },
  {
   "cell_type": "code",
   "execution_count": 51,
   "id": "a1dd9e37",
   "metadata": {},
   "outputs": [
    {
     "data": {
      "text/plain": [
       "LinearRegression()"
      ]
     },
     "execution_count": 51,
     "metadata": {},
     "output_type": "execute_result"
    }
   ],
   "source": [
    "LR_under_4 = LinearRegression()\n",
    "LR_under_4.fit(X_train, y_train)"
   ]
  },
  {
   "cell_type": "code",
   "execution_count": 52,
   "id": "c783886c",
   "metadata": {},
   "outputs": [
    {
     "data": {
      "text/plain": [
       "0.551058745938207"
      ]
     },
     "execution_count": 52,
     "metadata": {},
     "output_type": "execute_result"
    }
   ],
   "source": [
    "LR_under_4.score(X_test, y_test)"
   ]
  },
  {
   "cell_type": "code",
   "execution_count": 53,
   "id": "c83eaa8d",
   "metadata": {},
   "outputs": [
    {
     "data": {
      "text/plain": [
       "array([1.0461289 , 0.15531367])"
      ]
     },
     "execution_count": 53,
     "metadata": {},
     "output_type": "execute_result"
    }
   ],
   "source": [
    "LR_under_4.coef_"
   ]
  },
  {
   "cell_type": "code",
   "execution_count": 34,
   "id": "d20463d3",
   "metadata": {},
   "outputs": [],
   "source": [
    "df_full = pd.read_csv(\"EV_full_correlations.txt\")"
   ]
  },
  {
   "cell_type": "code",
   "execution_count": 35,
   "id": "8c2cf934",
   "metadata": {},
   "outputs": [
    {
     "data": {
      "text/html": [
       "<div>\n",
       "<style scoped>\n",
       "    .dataframe tbody tr th:only-of-type {\n",
       "        vertical-align: middle;\n",
       "    }\n",
       "\n",
       "    .dataframe tbody tr th {\n",
       "        vertical-align: top;\n",
       "    }\n",
       "\n",
       "    .dataframe thead th {\n",
       "        text-align: right;\n",
       "    }\n",
       "</style>\n",
       "<table border=\"1\" class=\"dataframe\">\n",
       "  <thead>\n",
       "    <tr style=\"text-align: right;\">\n",
       "      <th></th>\n",
       "      <th>1_value</th>\n",
       "      <th>2_value</th>\n",
       "      <th>3_value</th>\n",
       "      <th>4_value</th>\n",
       "      <th>5_value</th>\n",
       "      <th>EV</th>\n",
       "      <th>max_suit</th>\n",
       "      <th>win_rate</th>\n",
       "    </tr>\n",
       "  </thead>\n",
       "  <tbody>\n",
       "    <tr>\n",
       "      <th>0</th>\n",
       "      <td>0</td>\n",
       "      <td>3</td>\n",
       "      <td>8</td>\n",
       "      <td>11</td>\n",
       "      <td>11</td>\n",
       "      <td>0.598156</td>\n",
       "      <td>3</td>\n",
       "      <td>0.83796</td>\n",
       "    </tr>\n",
       "    <tr>\n",
       "      <th>1</th>\n",
       "      <td>0</td>\n",
       "      <td>0</td>\n",
       "      <td>0</td>\n",
       "      <td>2</td>\n",
       "      <td>5</td>\n",
       "      <td>0.743758</td>\n",
       "      <td>3</td>\n",
       "      <td>0.21632</td>\n",
       "    </tr>\n",
       "    <tr>\n",
       "      <th>2</th>\n",
       "      <td>0</td>\n",
       "      <td>2</td>\n",
       "      <td>2</td>\n",
       "      <td>4</td>\n",
       "      <td>12</td>\n",
       "      <td>0.483846</td>\n",
       "      <td>3</td>\n",
       "      <td>0.54616</td>\n",
       "    </tr>\n",
       "    <tr>\n",
       "      <th>3</th>\n",
       "      <td>0</td>\n",
       "      <td>1</td>\n",
       "      <td>3</td>\n",
       "      <td>7</td>\n",
       "      <td>11</td>\n",
       "      <td>0.350145</td>\n",
       "      <td>3</td>\n",
       "      <td>0.39612</td>\n",
       "    </tr>\n",
       "    <tr>\n",
       "      <th>4</th>\n",
       "      <td>0</td>\n",
       "      <td>4</td>\n",
       "      <td>5</td>\n",
       "      <td>6</td>\n",
       "      <td>10</td>\n",
       "      <td>0.336299</td>\n",
       "      <td>2</td>\n",
       "      <td>0.36404</td>\n",
       "    </tr>\n",
       "    <tr>\n",
       "      <th>...</th>\n",
       "      <td>...</td>\n",
       "      <td>...</td>\n",
       "      <td>...</td>\n",
       "      <td>...</td>\n",
       "      <td>...</td>\n",
       "      <td>...</td>\n",
       "      <td>...</td>\n",
       "      <td>...</td>\n",
       "    </tr>\n",
       "    <tr>\n",
       "      <th>19995</th>\n",
       "      <td>1</td>\n",
       "      <td>3</td>\n",
       "      <td>3</td>\n",
       "      <td>7</td>\n",
       "      <td>9</td>\n",
       "      <td>0.473816</td>\n",
       "      <td>2</td>\n",
       "      <td>0.34064</td>\n",
       "    </tr>\n",
       "    <tr>\n",
       "      <th>19996</th>\n",
       "      <td>0</td>\n",
       "      <td>1</td>\n",
       "      <td>2</td>\n",
       "      <td>8</td>\n",
       "      <td>10</td>\n",
       "      <td>0.314353</td>\n",
       "      <td>2</td>\n",
       "      <td>0.34124</td>\n",
       "    </tr>\n",
       "    <tr>\n",
       "      <th>19997</th>\n",
       "      <td>0</td>\n",
       "      <td>0</td>\n",
       "      <td>2</td>\n",
       "      <td>3</td>\n",
       "      <td>4</td>\n",
       "      <td>0.489648</td>\n",
       "      <td>2</td>\n",
       "      <td>0.30396</td>\n",
       "    </tr>\n",
       "    <tr>\n",
       "      <th>19998</th>\n",
       "      <td>0</td>\n",
       "      <td>4</td>\n",
       "      <td>5</td>\n",
       "      <td>6</td>\n",
       "      <td>12</td>\n",
       "      <td>0.379183</td>\n",
       "      <td>3</td>\n",
       "      <td>0.49884</td>\n",
       "    </tr>\n",
       "    <tr>\n",
       "      <th>19999</th>\n",
       "      <td>5</td>\n",
       "      <td>8</td>\n",
       "      <td>9</td>\n",
       "      <td>11</td>\n",
       "      <td>11</td>\n",
       "      <td>0.598174</td>\n",
       "      <td>2</td>\n",
       "      <td>0.77136</td>\n",
       "    </tr>\n",
       "  </tbody>\n",
       "</table>\n",
       "<p>20000 rows × 8 columns</p>\n",
       "</div>"
      ],
      "text/plain": [
       "       1_value  2_value  3_value  4_value  5_value        EV  max_suit  \\\n",
       "0            0        3        8       11       11  0.598156         3   \n",
       "1            0        0        0        2        5  0.743758         3   \n",
       "2            0        2        2        4       12  0.483846         3   \n",
       "3            0        1        3        7       11  0.350145         3   \n",
       "4            0        4        5        6       10  0.336299         2   \n",
       "...        ...      ...      ...      ...      ...       ...       ...   \n",
       "19995        1        3        3        7        9  0.473816         2   \n",
       "19996        0        1        2        8       10  0.314353         2   \n",
       "19997        0        0        2        3        4  0.489648         2   \n",
       "19998        0        4        5        6       12  0.379183         3   \n",
       "19999        5        8        9       11       11  0.598174         2   \n",
       "\n",
       "       win_rate  \n",
       "0       0.83796  \n",
       "1       0.21632  \n",
       "2       0.54616  \n",
       "3       0.39612  \n",
       "4       0.36404  \n",
       "...         ...  \n",
       "19995   0.34064  \n",
       "19996   0.34124  \n",
       "19997   0.30396  \n",
       "19998   0.49884  \n",
       "19999   0.77136  \n",
       "\n",
       "[20000 rows x 8 columns]"
      ]
     },
     "execution_count": 35,
     "metadata": {},
     "output_type": "execute_result"
    }
   ],
   "source": [
    "df_full"
   ]
  },
  {
   "cell_type": "code",
   "execution_count": 36,
   "id": "ee3ac210",
   "metadata": {},
   "outputs": [],
   "source": [
    "df_full_train = df_full.drop([\"win_rate\"], axis = 1)"
   ]
  },
  {
   "cell_type": "code",
   "execution_count": 72,
   "id": "51bb252e",
   "metadata": {},
   "outputs": [],
   "source": [
    "X_train, X_test, y_train, y_test = train_test_split(df_full_train, df_full.win_rate, test_size = 0.2)"
   ]
  },
  {
   "cell_type": "code",
   "execution_count": 64,
   "id": "503d52a2",
   "metadata": {},
   "outputs": [
    {
     "data": {
      "text/plain": [
       "LinearRegression()"
      ]
     },
     "execution_count": 64,
     "metadata": {},
     "output_type": "execute_result"
    }
   ],
   "source": [
    "LR = LinearRegression()\n",
    "LR.fit(X_train, y_train)"
   ]
  },
  {
   "cell_type": "code",
   "execution_count": 65,
   "id": "52827612",
   "metadata": {},
   "outputs": [
    {
     "data": {
      "text/plain": [
       "0.7914054757315938"
      ]
     },
     "execution_count": 65,
     "metadata": {},
     "output_type": "execute_result"
    }
   ],
   "source": [
    "LR.score(X_test, y_test)"
   ]
  },
  {
   "cell_type": "code",
   "execution_count": 66,
   "id": "fb42615d",
   "metadata": {},
   "outputs": [
    {
     "data": {
      "text/plain": [
       "array([-0.02427259, -0.00394587,  0.02720824,  0.00252741,  0.01904599,\n",
       "        1.27275096, -0.01349718])"
      ]
     },
     "execution_count": 66,
     "metadata": {},
     "output_type": "execute_result"
    }
   ],
   "source": [
    "LR.coef_"
   ]
  },
  {
   "cell_type": "code",
   "execution_count": null,
   "id": "f1b9a7b3",
   "metadata": {},
   "outputs": [],
   "source": []
  },
  {
   "cell_type": "code",
   "execution_count": 31,
   "id": "e0c49180",
   "metadata": {},
   "outputs": [
    {
     "data": {
      "text/html": [
       "<div>\n",
       "<style scoped>\n",
       "    .dataframe tbody tr th:only-of-type {\n",
       "        vertical-align: middle;\n",
       "    }\n",
       "\n",
       "    .dataframe tbody tr th {\n",
       "        vertical-align: top;\n",
       "    }\n",
       "\n",
       "    .dataframe thead th {\n",
       "        text-align: right;\n",
       "    }\n",
       "</style>\n",
       "<table border=\"1\" class=\"dataframe\">\n",
       "  <thead>\n",
       "    <tr style=\"text-align: right;\">\n",
       "      <th></th>\n",
       "      <th>1_value</th>\n",
       "      <th>2_value</th>\n",
       "      <th>3_value</th>\n",
       "      <th>4_value</th>\n",
       "      <th>5_value</th>\n",
       "      <th>EV</th>\n",
       "      <th>max_suit</th>\n",
       "    </tr>\n",
       "  </thead>\n",
       "  <tbody>\n",
       "    <tr>\n",
       "      <th>0</th>\n",
       "      <td>0</td>\n",
       "      <td>3</td>\n",
       "      <td>8</td>\n",
       "      <td>11</td>\n",
       "      <td>11</td>\n",
       "      <td>0.598156</td>\n",
       "      <td>3</td>\n",
       "    </tr>\n",
       "    <tr>\n",
       "      <th>1</th>\n",
       "      <td>0</td>\n",
       "      <td>0</td>\n",
       "      <td>0</td>\n",
       "      <td>2</td>\n",
       "      <td>5</td>\n",
       "      <td>0.743758</td>\n",
       "      <td>3</td>\n",
       "    </tr>\n",
       "    <tr>\n",
       "      <th>2</th>\n",
       "      <td>0</td>\n",
       "      <td>2</td>\n",
       "      <td>2</td>\n",
       "      <td>4</td>\n",
       "      <td>12</td>\n",
       "      <td>0.483846</td>\n",
       "      <td>3</td>\n",
       "    </tr>\n",
       "    <tr>\n",
       "      <th>3</th>\n",
       "      <td>0</td>\n",
       "      <td>1</td>\n",
       "      <td>3</td>\n",
       "      <td>7</td>\n",
       "      <td>11</td>\n",
       "      <td>0.350145</td>\n",
       "      <td>3</td>\n",
       "    </tr>\n",
       "    <tr>\n",
       "      <th>4</th>\n",
       "      <td>0</td>\n",
       "      <td>4</td>\n",
       "      <td>5</td>\n",
       "      <td>6</td>\n",
       "      <td>10</td>\n",
       "      <td>0.336299</td>\n",
       "      <td>2</td>\n",
       "    </tr>\n",
       "    <tr>\n",
       "      <th>...</th>\n",
       "      <td>...</td>\n",
       "      <td>...</td>\n",
       "      <td>...</td>\n",
       "      <td>...</td>\n",
       "      <td>...</td>\n",
       "      <td>...</td>\n",
       "      <td>...</td>\n",
       "    </tr>\n",
       "    <tr>\n",
       "      <th>19995</th>\n",
       "      <td>1</td>\n",
       "      <td>3</td>\n",
       "      <td>3</td>\n",
       "      <td>7</td>\n",
       "      <td>9</td>\n",
       "      <td>0.473816</td>\n",
       "      <td>2</td>\n",
       "    </tr>\n",
       "    <tr>\n",
       "      <th>19996</th>\n",
       "      <td>0</td>\n",
       "      <td>1</td>\n",
       "      <td>2</td>\n",
       "      <td>8</td>\n",
       "      <td>10</td>\n",
       "      <td>0.314353</td>\n",
       "      <td>2</td>\n",
       "    </tr>\n",
       "    <tr>\n",
       "      <th>19997</th>\n",
       "      <td>0</td>\n",
       "      <td>0</td>\n",
       "      <td>2</td>\n",
       "      <td>3</td>\n",
       "      <td>4</td>\n",
       "      <td>0.489648</td>\n",
       "      <td>2</td>\n",
       "    </tr>\n",
       "    <tr>\n",
       "      <th>19998</th>\n",
       "      <td>0</td>\n",
       "      <td>4</td>\n",
       "      <td>5</td>\n",
       "      <td>6</td>\n",
       "      <td>12</td>\n",
       "      <td>0.379183</td>\n",
       "      <td>3</td>\n",
       "    </tr>\n",
       "    <tr>\n",
       "      <th>19999</th>\n",
       "      <td>5</td>\n",
       "      <td>8</td>\n",
       "      <td>9</td>\n",
       "      <td>11</td>\n",
       "      <td>11</td>\n",
       "      <td>0.598174</td>\n",
       "      <td>2</td>\n",
       "    </tr>\n",
       "  </tbody>\n",
       "</table>\n",
       "<p>20000 rows × 7 columns</p>\n",
       "</div>"
      ],
      "text/plain": [
       "       1_value  2_value  3_value  4_value  5_value        EV  max_suit\n",
       "0            0        3        8       11       11  0.598156         3\n",
       "1            0        0        0        2        5  0.743758         3\n",
       "2            0        2        2        4       12  0.483846         3\n",
       "3            0        1        3        7       11  0.350145         3\n",
       "4            0        4        5        6       10  0.336299         2\n",
       "...        ...      ...      ...      ...      ...       ...       ...\n",
       "19995        1        3        3        7        9  0.473816         2\n",
       "19996        0        1        2        8       10  0.314353         2\n",
       "19997        0        0        2        3        4  0.489648         2\n",
       "19998        0        4        5        6       12  0.379183         3\n",
       "19999        5        8        9       11       11  0.598174         2\n",
       "\n",
       "[20000 rows x 7 columns]"
      ]
     },
     "execution_count": 31,
     "metadata": {},
     "output_type": "execute_result"
    }
   ],
   "source": [
    "df_full_train"
   ]
  },
  {
   "cell_type": "code",
   "execution_count": 71,
   "id": "df84b094",
   "metadata": {},
   "outputs": [],
   "source": [
    "RFR = RandomForestRegressor()"
   ]
  },
  {
   "cell_type": "code",
   "execution_count": 73,
   "id": "90619629",
   "metadata": {},
   "outputs": [
    {
     "data": {
      "text/plain": [
       "RandomForestRegressor()"
      ]
     },
     "execution_count": 73,
     "metadata": {},
     "output_type": "execute_result"
    }
   ],
   "source": [
    "RFR.fit(X_train, y_train)"
   ]
  },
  {
   "cell_type": "code",
   "execution_count": 74,
   "id": "74f6298c",
   "metadata": {},
   "outputs": [
    {
     "data": {
      "text/plain": [
       "0.980866707647942"
      ]
     },
     "execution_count": 74,
     "metadata": {},
     "output_type": "execute_result"
    }
   ],
   "source": [
    "RFR.score(X_test, y_test)"
   ]
  },
  {
   "cell_type": "code",
   "execution_count": 75,
   "id": "e2671986",
   "metadata": {},
   "outputs": [
    {
     "data": {
      "text/plain": [
       "array([0.02963797, 0.03177964, 0.06335322, 0.0326267 , 0.09765143,\n",
       "       0.73606718, 0.00888387])"
      ]
     },
     "execution_count": 75,
     "metadata": {},
     "output_type": "execute_result"
    }
   ],
   "source": [
    "RFR.feature_importances_"
   ]
  },
  {
   "cell_type": "code",
   "execution_count": 76,
   "id": "b0af2b67",
   "metadata": {},
   "outputs": [
    {
     "data": {
      "image/png": "[encoded data removed]",
      "text/plain": [
       "<Figure size 432x288 with 1 Axes>"
      ]
     },
     "metadata": {
      "needs_background": "light"
     },
     "output_type": "display_data"
    }
   ],
   "source": [
    "plt.bar(range(7), RFR.feature_importances_, tick_label = df_full_train.columns)\n",
    "plt.xticks(rotation = 45)\n",
    "plt.show()"
   ]
  },
  {
   "cell_type": "code",
   "execution_count": 81,
   "id": "7a245c86",
   "metadata": {},
   "outputs": [
    {
     "name": "stderr",
     "output_type": "stream",
     "text": [
      "C:\\Users\\jeeva\\AppData\\Roaming\\Python\\Python310\\site-packages\\sklearn\\base.py:450: UserWarning: X does not have valid feature names, but RandomForestRegressor was fitted with feature names\n",
      "  warnings.warn(\n"
     ]
    },
    {
     "data": {
      "text/plain": [
       "array([0.50197792])"
      ]
     },
     "execution_count": 81,
     "metadata": {},
     "output_type": "execute_result"
    }
   ],
   "source": [
    "test_input = np.asarray([0,4,5,6,12,.379183,3]).reshape(1,-1)\n",
    "RFR.predict(test_input)"
   ]
  },
  {
   "cell_type": "code",
   "execution_count": null,
   "id": "f0780343",
   "metadata": {},
   "outputs": [],
   "source": [
    "df"
   ]
  },
  {
   "cell_type": "code",
   "execution_count": 17,
   "id": "3dc5554b",
   "metadata": {},
   "outputs": [],
   "source": [
    "df_cur_full = pd.read_csv(\"EV_full_cur_strength_correlations.txt\")"
   ]
  },
  {
   "cell_type": "code",
   "execution_count": 18,
   "id": "a71e0482",
   "metadata": {},
   "outputs": [
    {
     "data": {
      "text/html": [
       "<div>\n",
       "<style scoped>\n",
       "    .dataframe tbody tr th:only-of-type {\n",
       "        vertical-align: middle;\n",
       "    }\n",
       "\n",
       "    .dataframe tbody tr th {\n",
       "        vertical-align: top;\n",
       "    }\n",
       "\n",
       "    .dataframe thead th {\n",
       "        text-align: right;\n",
       "    }\n",
       "</style>\n",
       "<table border=\"1\" class=\"dataframe\">\n",
       "  <thead>\n",
       "    <tr style=\"text-align: right;\">\n",
       "      <th></th>\n",
       "      <th>1_value</th>\n",
       "      <th>2_value</th>\n",
       "      <th>3_value</th>\n",
       "      <th>4_value</th>\n",
       "      <th>5_value</th>\n",
       "      <th>EV</th>\n",
       "      <th>cur_strength</th>\n",
       "      <th>max_suit</th>\n",
       "      <th>win_rate</th>\n",
       "    </tr>\n",
       "  </thead>\n",
       "  <tbody>\n",
       "    <tr>\n",
       "      <th>0</th>\n",
       "      <td>0</td>\n",
       "      <td>3</td>\n",
       "      <td>8</td>\n",
       "      <td>11</td>\n",
       "      <td>11</td>\n",
       "      <td>0.598156</td>\n",
       "      <td>1.852330</td>\n",
       "      <td>3</td>\n",
       "      <td>0.83796</td>\n",
       "    </tr>\n",
       "    <tr>\n",
       "      <th>1</th>\n",
       "      <td>0</td>\n",
       "      <td>0</td>\n",
       "      <td>0</td>\n",
       "      <td>2</td>\n",
       "      <td>5</td>\n",
       "      <td>0.743758</td>\n",
       "      <td>3.003860</td>\n",
       "      <td>3</td>\n",
       "      <td>0.21632</td>\n",
       "    </tr>\n",
       "    <tr>\n",
       "      <th>2</th>\n",
       "      <td>0</td>\n",
       "      <td>2</td>\n",
       "      <td>2</td>\n",
       "      <td>4</td>\n",
       "      <td>12</td>\n",
       "      <td>0.483846</td>\n",
       "      <td>1.163110</td>\n",
       "      <td>3</td>\n",
       "      <td>0.54616</td>\n",
       "    </tr>\n",
       "    <tr>\n",
       "      <th>3</th>\n",
       "      <td>0</td>\n",
       "      <td>1</td>\n",
       "      <td>3</td>\n",
       "      <td>7</td>\n",
       "      <td>11</td>\n",
       "      <td>0.350145</td>\n",
       "      <td>0.851562</td>\n",
       "      <td>3</td>\n",
       "      <td>0.39612</td>\n",
       "    </tr>\n",
       "    <tr>\n",
       "      <th>4</th>\n",
       "      <td>0</td>\n",
       "      <td>4</td>\n",
       "      <td>5</td>\n",
       "      <td>6</td>\n",
       "      <td>10</td>\n",
       "      <td>0.336299</td>\n",
       "      <td>0.773885</td>\n",
       "      <td>2</td>\n",
       "      <td>0.36404</td>\n",
       "    </tr>\n",
       "    <tr>\n",
       "      <th>...</th>\n",
       "      <td>...</td>\n",
       "      <td>...</td>\n",
       "      <td>...</td>\n",
       "      <td>...</td>\n",
       "      <td>...</td>\n",
       "      <td>...</td>\n",
       "      <td>...</td>\n",
       "      <td>...</td>\n",
       "      <td>...</td>\n",
       "    </tr>\n",
       "    <tr>\n",
       "      <th>19995</th>\n",
       "      <td>1</td>\n",
       "      <td>3</td>\n",
       "      <td>3</td>\n",
       "      <td>7</td>\n",
       "      <td>9</td>\n",
       "      <td>0.473816</td>\n",
       "      <td>1.237750</td>\n",
       "      <td>2</td>\n",
       "      <td>0.34064</td>\n",
       "    </tr>\n",
       "    <tr>\n",
       "      <th>19996</th>\n",
       "      <td>0</td>\n",
       "      <td>1</td>\n",
       "      <td>2</td>\n",
       "      <td>8</td>\n",
       "      <td>10</td>\n",
       "      <td>0.314353</td>\n",
       "      <td>0.775400</td>\n",
       "      <td>2</td>\n",
       "      <td>0.34124</td>\n",
       "    </tr>\n",
       "    <tr>\n",
       "      <th>19997</th>\n",
       "      <td>0</td>\n",
       "      <td>0</td>\n",
       "      <td>2</td>\n",
       "      <td>3</td>\n",
       "      <td>4</td>\n",
       "      <td>0.489648</td>\n",
       "      <td>1.003100</td>\n",
       "      <td>2</td>\n",
       "      <td>0.30396</td>\n",
       "    </tr>\n",
       "    <tr>\n",
       "      <th>19998</th>\n",
       "      <td>0</td>\n",
       "      <td>4</td>\n",
       "      <td>5</td>\n",
       "      <td>6</td>\n",
       "      <td>12</td>\n",
       "      <td>0.379183</td>\n",
       "      <td>0.927731</td>\n",
       "      <td>3</td>\n",
       "      <td>0.49884</td>\n",
       "    </tr>\n",
       "    <tr>\n",
       "      <th>19999</th>\n",
       "      <td>5</td>\n",
       "      <td>8</td>\n",
       "      <td>9</td>\n",
       "      <td>11</td>\n",
       "      <td>11</td>\n",
       "      <td>0.598174</td>\n",
       "      <td>1.853140</td>\n",
       "      <td>2</td>\n",
       "      <td>0.77136</td>\n",
       "    </tr>\n",
       "  </tbody>\n",
       "</table>\n",
       "<p>20000 rows × 9 columns</p>\n",
       "</div>"
      ],
      "text/plain": [
       "       1_value  2_value  3_value  4_value  5_value        EV  cur_strength  \\\n",
       "0            0        3        8       11       11  0.598156      1.852330   \n",
       "1            0        0        0        2        5  0.743758      3.003860   \n",
       "2            0        2        2        4       12  0.483846      1.163110   \n",
       "3            0        1        3        7       11  0.350145      0.851562   \n",
       "4            0        4        5        6       10  0.336299      0.773885   \n",
       "...        ...      ...      ...      ...      ...       ...           ...   \n",
       "19995        1        3        3        7        9  0.473816      1.237750   \n",
       "19996        0        1        2        8       10  0.314353      0.775400   \n",
       "19997        0        0        2        3        4  0.489648      1.003100   \n",
       "19998        0        4        5        6       12  0.379183      0.927731   \n",
       "19999        5        8        9       11       11  0.598174      1.853140   \n",
       "\n",
       "       max_suit  win_rate  \n",
       "0             3   0.83796  \n",
       "1             3   0.21632  \n",
       "2             3   0.54616  \n",
       "3             3   0.39612  \n",
       "4             2   0.36404  \n",
       "...         ...       ...  \n",
       "19995         2   0.34064  \n",
       "19996         2   0.34124  \n",
       "19997         2   0.30396  \n",
       "19998         3   0.49884  \n",
       "19999         2   0.77136  \n",
       "\n",
       "[20000 rows x 9 columns]"
      ]
     },
     "execution_count": 18,
     "metadata": {},
     "output_type": "execute_result"
    }
   ],
   "source": [
    "df_cur_full"
   ]
  },
  {
   "cell_type": "code",
   "execution_count": 19,
   "id": "0b6db0f5",
   "metadata": {},
   "outputs": [],
   "source": [
    "df_cur_full_train = df_cur_full.drop(['win_rate'], axis = 1)"
   ]
  },
  {
   "cell_type": "code",
   "execution_count": 45,
   "id": "66f984ca",
   "metadata": {},
   "outputs": [],
   "source": [
    "X_train, X_test, y_train, y_test = train_test_split(df_cur_full_train, df_cur_full.win_rate, test_size = 0.2)"
   ]
  },
  {
   "cell_type": "code",
   "execution_count": 46,
   "id": "f633de22",
   "metadata": {},
   "outputs": [
    {
     "data": {
      "text/plain": [
       "LinearRegression()"
      ]
     },
     "execution_count": 46,
     "metadata": {},
     "output_type": "execute_result"
    }
   ],
   "source": [
    "LR = LinearRegression()\n",
    "LR.fit(X_train, y_train)"
   ]
  },
  {
   "cell_type": "code",
   "execution_count": 47,
   "id": "c6baa993",
   "metadata": {},
   "outputs": [
    {
     "data": {
      "text/plain": [
       "0.8085529999826183"
      ]
     },
     "execution_count": 47,
     "metadata": {},
     "output_type": "execute_result"
    }
   ],
   "source": [
    "LR.score(X_test, y_test)"
   ]
  },
  {
   "cell_type": "code",
   "execution_count": 48,
   "id": "15194aea",
   "metadata": {},
   "outputs": [
    {
     "data": {
      "text/plain": [
       "array([-0.02442588, -0.00357289,  0.02717364,  0.00194571,  0.01913066,\n",
       "        1.2409702 ,  0.00662273, -0.01114931])"
      ]
     },
     "execution_count": 48,
     "metadata": {},
     "output_type": "execute_result"
    }
   ],
   "source": [
    "LR.coef_"
   ]
  },
  {
   "cell_type": "code",
   "execution_count": 49,
   "id": "046870e8",
   "metadata": {},
   "outputs": [],
   "source": [
    "RFR = RandomForestRegressor()"
   ]
  },
  {
   "cell_type": "code",
   "execution_count": 50,
   "id": "43ee155e",
   "metadata": {},
   "outputs": [
    {
     "data": {
      "text/plain": [
       "RandomForestRegressor()"
      ]
     },
     "execution_count": 50,
     "metadata": {},
     "output_type": "execute_result"
    }
   ],
   "source": [
    "RFR.fit(X_train, y_train)"
   ]
  },
  {
   "cell_type": "code",
   "execution_count": 51,
   "id": "8154ee76",
   "metadata": {},
   "outputs": [
    {
     "data": {
      "text/plain": [
       "0.9807441239238706"
      ]
     },
     "execution_count": 51,
     "metadata": {},
     "output_type": "execute_result"
    }
   ],
   "source": [
    "RFR.score(X_test, y_test)"
   ]
  },
  {
   "cell_type": "code",
   "execution_count": 52,
   "id": "3ad00332",
   "metadata": {},
   "outputs": [
    {
     "data": {
      "text/plain": [
       "array([0.01522981, 0.02914581, 0.03055866, 0.02599944, 0.08378727,\n",
       "       0.25808955, 0.5482517 , 0.00893776])"
      ]
     },
     "execution_count": 52,
     "metadata": {},
     "output_type": "execute_result"
    }
   ],
   "source": [
    "RFR.feature_importances_"
   ]
  },
  {
   "cell_type": "code",
   "execution_count": 30,
   "id": "1ba67c00",
   "metadata": {},
   "outputs": [
    {
     "data": {
      "text/html": [
       "<div>\n",
       "<style scoped>\n",
       "    .dataframe tbody tr th:only-of-type {\n",
       "        vertical-align: middle;\n",
       "    }\n",
       "\n",
       "    .dataframe tbody tr th {\n",
       "        vertical-align: top;\n",
       "    }\n",
       "\n",
       "    .dataframe thead th {\n",
       "        text-align: right;\n",
       "    }\n",
       "</style>\n",
       "<table border=\"1\" class=\"dataframe\">\n",
       "  <thead>\n",
       "    <tr style=\"text-align: right;\">\n",
       "      <th></th>\n",
       "      <th>1_value</th>\n",
       "      <th>2_value</th>\n",
       "      <th>3_value</th>\n",
       "      <th>4_value</th>\n",
       "      <th>5_value</th>\n",
       "      <th>EV</th>\n",
       "      <th>cur_strength</th>\n",
       "      <th>max_suit</th>\n",
       "    </tr>\n",
       "  </thead>\n",
       "  <tbody>\n",
       "    <tr>\n",
       "      <th>0</th>\n",
       "      <td>0</td>\n",
       "      <td>3</td>\n",
       "      <td>8</td>\n",
       "      <td>11</td>\n",
       "      <td>11</td>\n",
       "      <td>0.598156</td>\n",
       "      <td>1.852330</td>\n",
       "      <td>3</td>\n",
       "    </tr>\n",
       "    <tr>\n",
       "      <th>1</th>\n",
       "      <td>0</td>\n",
       "      <td>0</td>\n",
       "      <td>0</td>\n",
       "      <td>2</td>\n",
       "      <td>5</td>\n",
       "      <td>0.743758</td>\n",
       "      <td>3.003860</td>\n",
       "      <td>3</td>\n",
       "    </tr>\n",
       "    <tr>\n",
       "      <th>2</th>\n",
       "      <td>0</td>\n",
       "      <td>2</td>\n",
       "      <td>2</td>\n",
       "      <td>4</td>\n",
       "      <td>12</td>\n",
       "      <td>0.483846</td>\n",
       "      <td>1.163110</td>\n",
       "      <td>3</td>\n",
       "    </tr>\n",
       "    <tr>\n",
       "      <th>3</th>\n",
       "      <td>0</td>\n",
       "      <td>1</td>\n",
       "      <td>3</td>\n",
       "      <td>7</td>\n",
       "      <td>11</td>\n",
       "      <td>0.350145</td>\n",
       "      <td>0.851562</td>\n",
       "      <td>3</td>\n",
       "    </tr>\n",
       "    <tr>\n",
       "      <th>4</th>\n",
       "      <td>0</td>\n",
       "      <td>4</td>\n",
       "      <td>5</td>\n",
       "      <td>6</td>\n",
       "      <td>10</td>\n",
       "      <td>0.336299</td>\n",
       "      <td>0.773885</td>\n",
       "      <td>2</td>\n",
       "    </tr>\n",
       "    <tr>\n",
       "      <th>...</th>\n",
       "      <td>...</td>\n",
       "      <td>...</td>\n",
       "      <td>...</td>\n",
       "      <td>...</td>\n",
       "      <td>...</td>\n",
       "      <td>...</td>\n",
       "      <td>...</td>\n",
       "      <td>...</td>\n",
       "    </tr>\n",
       "    <tr>\n",
       "      <th>19995</th>\n",
       "      <td>1</td>\n",
       "      <td>3</td>\n",
       "      <td>3</td>\n",
       "      <td>7</td>\n",
       "      <td>9</td>\n",
       "      <td>0.473816</td>\n",
       "      <td>1.237750</td>\n",
       "      <td>2</td>\n",
       "    </tr>\n",
       "    <tr>\n",
       "      <th>19996</th>\n",
       "      <td>0</td>\n",
       "      <td>1</td>\n",
       "      <td>2</td>\n",
       "      <td>8</td>\n",
       "      <td>10</td>\n",
       "      <td>0.314353</td>\n",
       "      <td>0.775400</td>\n",
       "      <td>2</td>\n",
       "    </tr>\n",
       "    <tr>\n",
       "      <th>19997</th>\n",
       "      <td>0</td>\n",
       "      <td>0</td>\n",
       "      <td>2</td>\n",
       "      <td>3</td>\n",
       "      <td>4</td>\n",
       "      <td>0.489648</td>\n",
       "      <td>1.003100</td>\n",
       "      <td>2</td>\n",
       "    </tr>\n",
       "    <tr>\n",
       "      <th>19998</th>\n",
       "      <td>0</td>\n",
       "      <td>4</td>\n",
       "      <td>5</td>\n",
       "      <td>6</td>\n",
       "      <td>12</td>\n",
       "      <td>0.379183</td>\n",
       "      <td>0.927731</td>\n",
       "      <td>3</td>\n",
       "    </tr>\n",
       "    <tr>\n",
       "      <th>19999</th>\n",
       "      <td>5</td>\n",
       "      <td>8</td>\n",
       "      <td>9</td>\n",
       "      <td>11</td>\n",
       "      <td>11</td>\n",
       "      <td>0.598174</td>\n",
       "      <td>1.853140</td>\n",
       "      <td>2</td>\n",
       "    </tr>\n",
       "  </tbody>\n",
       "</table>\n",
       "<p>20000 rows × 8 columns</p>\n",
       "</div>"
      ],
      "text/plain": [
       "       1_value  2_value  3_value  4_value  5_value        EV  cur_strength  \\\n",
       "0            0        3        8       11       11  0.598156      1.852330   \n",
       "1            0        0        0        2        5  0.743758      3.003860   \n",
       "2            0        2        2        4       12  0.483846      1.163110   \n",
       "3            0        1        3        7       11  0.350145      0.851562   \n",
       "4            0        4        5        6       10  0.336299      0.773885   \n",
       "...        ...      ...      ...      ...      ...       ...           ...   \n",
       "19995        1        3        3        7        9  0.473816      1.237750   \n",
       "19996        0        1        2        8       10  0.314353      0.775400   \n",
       "19997        0        0        2        3        4  0.489648      1.003100   \n",
       "19998        0        4        5        6       12  0.379183      0.927731   \n",
       "19999        5        8        9       11       11  0.598174      1.853140   \n",
       "\n",
       "       max_suit  \n",
       "0             3  \n",
       "1             3  \n",
       "2             3  \n",
       "3             3  \n",
       "4             2  \n",
       "...         ...  \n",
       "19995         2  \n",
       "19996         2  \n",
       "19997         2  \n",
       "19998         3  \n",
       "19999         2  \n",
       "\n",
       "[20000 rows x 8 columns]"
      ]
     },
     "execution_count": 30,
     "metadata": {},
     "output_type": "execute_result"
    }
   ],
   "source": [
    "df_cur_full_train"
   ]
  },
  {
   "cell_type": "code",
   "execution_count": 58,
   "id": "ec342e60",
   "metadata": {},
   "outputs": [
    {
     "data": {
      "text/plain": [
       "Index(['1_value', '2_value', '3_value', '4_value', '5_value', 'EV',\n",
       "       'cur_strength', 'max_suit'],\n",
       "      dtype='object')"
      ]
     },
     "execution_count": 58,
     "metadata": {},
     "output_type": "execute_result"
    }
   ],
   "source": [
    "df_cur_full_train.columns"
   ]
  },
  {
   "cell_type": "code",
   "execution_count": 62,
   "id": "de7ac4ee",
   "metadata": {},
   "outputs": [
    {
     "data": {
      "image/png": "[encoded data removed]",
      "text/plain": [
       "<Figure size 432x288 with 1 Axes>"
      ]
     },
     "metadata": {
      "needs_background": "light"
     },
     "output_type": "display_data"
    }
   ],
   "source": [
    "plt.bar(range(8), RFR.feature_importances_, tick_label = df_cur_full_train.columns)\n",
    "plt.xticks(rotation = 45)\n",
    "plt.show()"
   ]
  },
  {
   "cell_type": "code",
   "execution_count": 83,
   "id": "17c85c9f",
   "metadata": {},
   "outputs": [
    {
     "data": {
      "text/html": [
       "<div>\n",
       "<style scoped>\n",
       "    .dataframe tbody tr th:only-of-type {\n",
       "        vertical-align: middle;\n",
       "    }\n",
       "\n",
       "    .dataframe tbody tr th {\n",
       "        vertical-align: top;\n",
       "    }\n",
       "\n",
       "    .dataframe thead th {\n",
       "        text-align: right;\n",
       "    }\n",
       "</style>\n",
       "<table border=\"1\" class=\"dataframe\">\n",
       "  <thead>\n",
       "    <tr style=\"text-align: right;\">\n",
       "      <th></th>\n",
       "      <th>1_value</th>\n",
       "      <th>2_value</th>\n",
       "      <th>3_value</th>\n",
       "      <th>4_value</th>\n",
       "      <th>5_value</th>\n",
       "      <th>EV</th>\n",
       "      <th>cur_strength</th>\n",
       "      <th>max_suit</th>\n",
       "      <th>win_rate</th>\n",
       "    </tr>\n",
       "  </thead>\n",
       "  <tbody>\n",
       "    <tr>\n",
       "      <th>0</th>\n",
       "      <td>0</td>\n",
       "      <td>3</td>\n",
       "      <td>8</td>\n",
       "      <td>11</td>\n",
       "      <td>11</td>\n",
       "      <td>0.598156</td>\n",
       "      <td>1.852330</td>\n",
       "      <td>3</td>\n",
       "      <td>0.83796</td>\n",
       "    </tr>\n",
       "    <tr>\n",
       "      <th>1</th>\n",
       "      <td>0</td>\n",
       "      <td>0</td>\n",
       "      <td>0</td>\n",
       "      <td>2</td>\n",
       "      <td>5</td>\n",
       "      <td>0.743758</td>\n",
       "      <td>3.003860</td>\n",
       "      <td>3</td>\n",
       "      <td>0.21632</td>\n",
       "    </tr>\n",
       "    <tr>\n",
       "      <th>2</th>\n",
       "      <td>0</td>\n",
       "      <td>2</td>\n",
       "      <td>2</td>\n",
       "      <td>4</td>\n",
       "      <td>12</td>\n",
       "      <td>0.483846</td>\n",
       "      <td>1.163110</td>\n",
       "      <td>3</td>\n",
       "      <td>0.54616</td>\n",
       "    </tr>\n",
       "    <tr>\n",
       "      <th>3</th>\n",
       "      <td>0</td>\n",
       "      <td>1</td>\n",
       "      <td>3</td>\n",
       "      <td>7</td>\n",
       "      <td>11</td>\n",
       "      <td>0.350145</td>\n",
       "      <td>0.851562</td>\n",
       "      <td>3</td>\n",
       "      <td>0.39612</td>\n",
       "    </tr>\n",
       "    <tr>\n",
       "      <th>4</th>\n",
       "      <td>0</td>\n",
       "      <td>4</td>\n",
       "      <td>5</td>\n",
       "      <td>6</td>\n",
       "      <td>10</td>\n",
       "      <td>0.336299</td>\n",
       "      <td>0.773885</td>\n",
       "      <td>2</td>\n",
       "      <td>0.36404</td>\n",
       "    </tr>\n",
       "    <tr>\n",
       "      <th>...</th>\n",
       "      <td>...</td>\n",
       "      <td>...</td>\n",
       "      <td>...</td>\n",
       "      <td>...</td>\n",
       "      <td>...</td>\n",
       "      <td>...</td>\n",
       "      <td>...</td>\n",
       "      <td>...</td>\n",
       "      <td>...</td>\n",
       "    </tr>\n",
       "    <tr>\n",
       "      <th>19995</th>\n",
       "      <td>1</td>\n",
       "      <td>3</td>\n",
       "      <td>3</td>\n",
       "      <td>7</td>\n",
       "      <td>9</td>\n",
       "      <td>0.473816</td>\n",
       "      <td>1.237750</td>\n",
       "      <td>2</td>\n",
       "      <td>0.34064</td>\n",
       "    </tr>\n",
       "    <tr>\n",
       "      <th>19996</th>\n",
       "      <td>0</td>\n",
       "      <td>1</td>\n",
       "      <td>2</td>\n",
       "      <td>8</td>\n",
       "      <td>10</td>\n",
       "      <td>0.314353</td>\n",
       "      <td>0.775400</td>\n",
       "      <td>2</td>\n",
       "      <td>0.34124</td>\n",
       "    </tr>\n",
       "    <tr>\n",
       "      <th>19997</th>\n",
       "      <td>0</td>\n",
       "      <td>0</td>\n",
       "      <td>2</td>\n",
       "      <td>3</td>\n",
       "      <td>4</td>\n",
       "      <td>0.489648</td>\n",
       "      <td>1.003100</td>\n",
       "      <td>2</td>\n",
       "      <td>0.30396</td>\n",
       "    </tr>\n",
       "    <tr>\n",
       "      <th>19998</th>\n",
       "      <td>0</td>\n",
       "      <td>4</td>\n",
       "      <td>5</td>\n",
       "      <td>6</td>\n",
       "      <td>12</td>\n",
       "      <td>0.379183</td>\n",
       "      <td>0.927731</td>\n",
       "      <td>3</td>\n",
       "      <td>0.49884</td>\n",
       "    </tr>\n",
       "    <tr>\n",
       "      <th>19999</th>\n",
       "      <td>5</td>\n",
       "      <td>8</td>\n",
       "      <td>9</td>\n",
       "      <td>11</td>\n",
       "      <td>11</td>\n",
       "      <td>0.598174</td>\n",
       "      <td>1.853140</td>\n",
       "      <td>2</td>\n",
       "      <td>0.77136</td>\n",
       "    </tr>\n",
       "  </tbody>\n",
       "</table>\n",
       "<p>20000 rows × 9 columns</p>\n",
       "</div>"
      ],
      "text/plain": [
       "       1_value  2_value  3_value  4_value  5_value        EV  cur_strength  \\\n",
       "0            0        3        8       11       11  0.598156      1.852330   \n",
       "1            0        0        0        2        5  0.743758      3.003860   \n",
       "2            0        2        2        4       12  0.483846      1.163110   \n",
       "3            0        1        3        7       11  0.350145      0.851562   \n",
       "4            0        4        5        6       10  0.336299      0.773885   \n",
       "...        ...      ...      ...      ...      ...       ...           ...   \n",
       "19995        1        3        3        7        9  0.473816      1.237750   \n",
       "19996        0        1        2        8       10  0.314353      0.775400   \n",
       "19997        0        0        2        3        4  0.489648      1.003100   \n",
       "19998        0        4        5        6       12  0.379183      0.927731   \n",
       "19999        5        8        9       11       11  0.598174      1.853140   \n",
       "\n",
       "       max_suit  win_rate  \n",
       "0             3   0.83796  \n",
       "1             3   0.21632  \n",
       "2             3   0.54616  \n",
       "3             3   0.39612  \n",
       "4             2   0.36404  \n",
       "...         ...       ...  \n",
       "19995         2   0.34064  \n",
       "19996         2   0.34124  \n",
       "19997         2   0.30396  \n",
       "19998         3   0.49884  \n",
       "19999         2   0.77136  \n",
       "\n",
       "[20000 rows x 9 columns]"
      ]
     },
     "execution_count": 83,
     "metadata": {},
     "output_type": "execute_result"
    }
   ],
   "source": [
    "df_cur_full"
   ]
  },
  {
   "cell_type": "code",
   "execution_count": 86,
   "id": "0276d5ce",
   "metadata": {},
   "outputs": [],
   "source": [
    "df_cur_noEV = df_cur_full.drop(['EV'], axis = 1)"
   ]
  },
  {
   "cell_type": "code",
   "execution_count": 87,
   "id": "53ffc2d4",
   "metadata": {},
   "outputs": [
    {
     "data": {
      "text/html": [
       "<div>\n",
       "<style scoped>\n",
       "    .dataframe tbody tr th:only-of-type {\n",
       "        vertical-align: middle;\n",
       "    }\n",
       "\n",
       "    .dataframe tbody tr th {\n",
       "        vertical-align: top;\n",
       "    }\n",
       "\n",
       "    .dataframe thead th {\n",
       "        text-align: right;\n",
       "    }\n",
       "</style>\n",
       "<table border=\"1\" class=\"dataframe\">\n",
       "  <thead>\n",
       "    <tr style=\"text-align: right;\">\n",
       "      <th></th>\n",
       "      <th>1_value</th>\n",
       "      <th>2_value</th>\n",
       "      <th>3_value</th>\n",
       "      <th>4_value</th>\n",
       "      <th>5_value</th>\n",
       "      <th>cur_strength</th>\n",
       "      <th>max_suit</th>\n",
       "      <th>win_rate</th>\n",
       "    </tr>\n",
       "  </thead>\n",
       "  <tbody>\n",
       "    <tr>\n",
       "      <th>0</th>\n",
       "      <td>0</td>\n",
       "      <td>3</td>\n",
       "      <td>8</td>\n",
       "      <td>11</td>\n",
       "      <td>11</td>\n",
       "      <td>1.852330</td>\n",
       "      <td>3</td>\n",
       "      <td>0.83796</td>\n",
       "    </tr>\n",
       "    <tr>\n",
       "      <th>1</th>\n",
       "      <td>0</td>\n",
       "      <td>0</td>\n",
       "      <td>0</td>\n",
       "      <td>2</td>\n",
       "      <td>5</td>\n",
       "      <td>3.003860</td>\n",
       "      <td>3</td>\n",
       "      <td>0.21632</td>\n",
       "    </tr>\n",
       "    <tr>\n",
       "      <th>2</th>\n",
       "      <td>0</td>\n",
       "      <td>2</td>\n",
       "      <td>2</td>\n",
       "      <td>4</td>\n",
       "      <td>12</td>\n",
       "      <td>1.163110</td>\n",
       "      <td>3</td>\n",
       "      <td>0.54616</td>\n",
       "    </tr>\n",
       "    <tr>\n",
       "      <th>3</th>\n",
       "      <td>0</td>\n",
       "      <td>1</td>\n",
       "      <td>3</td>\n",
       "      <td>7</td>\n",
       "      <td>11</td>\n",
       "      <td>0.851562</td>\n",
       "      <td>3</td>\n",
       "      <td>0.39612</td>\n",
       "    </tr>\n",
       "    <tr>\n",
       "      <th>4</th>\n",
       "      <td>0</td>\n",
       "      <td>4</td>\n",
       "      <td>5</td>\n",
       "      <td>6</td>\n",
       "      <td>10</td>\n",
       "      <td>0.773885</td>\n",
       "      <td>2</td>\n",
       "      <td>0.36404</td>\n",
       "    </tr>\n",
       "    <tr>\n",
       "      <th>...</th>\n",
       "      <td>...</td>\n",
       "      <td>...</td>\n",
       "      <td>...</td>\n",
       "      <td>...</td>\n",
       "      <td>...</td>\n",
       "      <td>...</td>\n",
       "      <td>...</td>\n",
       "      <td>...</td>\n",
       "    </tr>\n",
       "    <tr>\n",
       "      <th>19995</th>\n",
       "      <td>1</td>\n",
       "      <td>3</td>\n",
       "      <td>3</td>\n",
       "      <td>7</td>\n",
       "      <td>9</td>\n",
       "      <td>1.237750</td>\n",
       "      <td>2</td>\n",
       "      <td>0.34064</td>\n",
       "    </tr>\n",
       "    <tr>\n",
       "      <th>19996</th>\n",
       "      <td>0</td>\n",
       "      <td>1</td>\n",
       "      <td>2</td>\n",
       "      <td>8</td>\n",
       "      <td>10</td>\n",
       "      <td>0.775400</td>\n",
       "      <td>2</td>\n",
       "      <td>0.34124</td>\n",
       "    </tr>\n",
       "    <tr>\n",
       "      <th>19997</th>\n",
       "      <td>0</td>\n",
       "      <td>0</td>\n",
       "      <td>2</td>\n",
       "      <td>3</td>\n",
       "      <td>4</td>\n",
       "      <td>1.003100</td>\n",
       "      <td>2</td>\n",
       "      <td>0.30396</td>\n",
       "    </tr>\n",
       "    <tr>\n",
       "      <th>19998</th>\n",
       "      <td>0</td>\n",
       "      <td>4</td>\n",
       "      <td>5</td>\n",
       "      <td>6</td>\n",
       "      <td>12</td>\n",
       "      <td>0.927731</td>\n",
       "      <td>3</td>\n",
       "      <td>0.49884</td>\n",
       "    </tr>\n",
       "    <tr>\n",
       "      <th>19999</th>\n",
       "      <td>5</td>\n",
       "      <td>8</td>\n",
       "      <td>9</td>\n",
       "      <td>11</td>\n",
       "      <td>11</td>\n",
       "      <td>1.853140</td>\n",
       "      <td>2</td>\n",
       "      <td>0.77136</td>\n",
       "    </tr>\n",
       "  </tbody>\n",
       "</table>\n",
       "<p>20000 rows × 8 columns</p>\n",
       "</div>"
      ],
      "text/plain": [
       "       1_value  2_value  3_value  4_value  5_value  cur_strength  max_suit  \\\n",
       "0            0        3        8       11       11      1.852330         3   \n",
       "1            0        0        0        2        5      3.003860         3   \n",
       "2            0        2        2        4       12      1.163110         3   \n",
       "3            0        1        3        7       11      0.851562         3   \n",
       "4            0        4        5        6       10      0.773885         2   \n",
       "...        ...      ...      ...      ...      ...           ...       ...   \n",
       "19995        1        3        3        7        9      1.237750         2   \n",
       "19996        0        1        2        8       10      0.775400         2   \n",
       "19997        0        0        2        3        4      1.003100         2   \n",
       "19998        0        4        5        6       12      0.927731         3   \n",
       "19999        5        8        9       11       11      1.853140         2   \n",
       "\n",
       "       win_rate  \n",
       "0       0.83796  \n",
       "1       0.21632  \n",
       "2       0.54616  \n",
       "3       0.39612  \n",
       "4       0.36404  \n",
       "...         ...  \n",
       "19995   0.34064  \n",
       "19996   0.34124  \n",
       "19997   0.30396  \n",
       "19998   0.49884  \n",
       "19999   0.77136  \n",
       "\n",
       "[20000 rows x 8 columns]"
      ]
     },
     "execution_count": 87,
     "metadata": {},
     "output_type": "execute_result"
    }
   ],
   "source": [
    "df_cur_noEV"
   ]
  },
  {
   "cell_type": "code",
   "execution_count": 88,
   "id": "074da24e",
   "metadata": {},
   "outputs": [],
   "source": [
    "df_cur_noEV_train = df_cur_noEV.drop(['win_rate'], axis = 1)"
   ]
  },
  {
   "cell_type": "code",
   "execution_count": 89,
   "id": "64be7450",
   "metadata": {},
   "outputs": [],
   "source": [
    "X_train, X_test, y_train, y_test = train_test_split(df_cur_noEV_train, df_cur_noEV.win_rate, test_size = 0.2)"
   ]
  },
  {
   "cell_type": "code",
   "execution_count": 91,
   "id": "85c45a01",
   "metadata": {},
   "outputs": [
    {
     "data": {
      "text/plain": [
       "RandomForestRegressor()"
      ]
     },
     "execution_count": 91,
     "metadata": {},
     "output_type": "execute_result"
    }
   ],
   "source": [
    "RFR = RandomForestRegressor()\n",
    "RFR.fit(X_train, y_train)"
   ]
  },
  {
   "cell_type": "code",
   "execution_count": 92,
   "id": "b2315b3e",
   "metadata": {},
   "outputs": [
    {
     "data": {
      "text/plain": [
       "0.980221403675887"
      ]
     },
     "execution_count": 92,
     "metadata": {},
     "output_type": "execute_result"
    }
   ],
   "source": [
    "RFR.score(X_test, y_test)"
   ]
  },
  {
   "cell_type": "code",
   "execution_count": 93,
   "id": "94c5bd09",
   "metadata": {},
   "outputs": [
    {
     "data": {
      "image/png": "[encoded data removed]",
      "text/plain": [
       "<Figure size 432x288 with 1 Axes>"
      ]
     },
     "metadata": {
      "needs_background": "light"
     },
     "output_type": "display_data"
    }
   ],
   "source": [
    "plt.bar(range(7), RFR.feature_importances_, tick_label = df_cur_noEV_train.columns)\n",
    "plt.xticks(rotation = 45)\n",
    "plt.show()"
   ]
  }
 ],
 "metadata": {
  "kernelspec": {
   "display_name": "Python 3 (ipykernel)",
   "language": "python",
   "name": "python3"
  },
  "language_info": {
   "codemirror_mode": {
    "name": "ipython",
    "version": 3
   },
   "file_extension": ".py",
   "mimetype": "text/x-python",
   "name": "python",
   "nbconvert_exporter": "python",
   "pygments_lexer": "ipython3",
   "version": "3.10.2"
  }
 },
 "nbformat": 4,
 "nbformat_minor": 5
}
