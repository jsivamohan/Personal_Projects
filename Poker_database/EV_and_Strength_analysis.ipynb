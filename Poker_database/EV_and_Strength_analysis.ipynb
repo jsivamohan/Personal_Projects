{
 "cells": [
  {
   "cell_type": "code",
   "execution_count": 1,
   "id": "374cd570",
   "metadata": {},
   "outputs": [],
   "source": [
    "import pandas as pd\n",
    "import numpy as np\n",
    "import matplotlib.pyplot as plt\n",
    "import sklearn\n",
    "from sklearn.model_selection import train_test_split as tts\n",
    "from sklearn.linear_model import LinearRegression\n",
    "from sklearn.linear_model import LogisticRegression"
   ]
  },
  {
   "cell_type": "code",
   "execution_count": 32,
   "id": "0da8a2ea",
   "metadata": {},
   "outputs": [],
   "source": [
    "import math"
   ]
  },
  {
   "cell_type": "code",
   "execution_count": 5,
   "id": "15d36cb6",
   "metadata": {},
   "outputs": [],
   "source": [
    "df = pd.read_csv(\"Strength_score_vs_win_new.txt\")"
   ]
  },
  {
   "cell_type": "code",
   "execution_count": 6,
   "id": "c8bb89f0",
   "metadata": {},
   "outputs": [
    {
     "data": {
      "text/html": [
       "<div>\n",
       "<style scoped>\n",
       "    .dataframe tbody tr th:only-of-type {\n",
       "        vertical-align: middle;\n",
       "    }\n",
       "\n",
       "    .dataframe tbody tr th {\n",
       "        vertical-align: top;\n",
       "    }\n",
       "\n",
       "    .dataframe thead th {\n",
       "        text-align: right;\n",
       "    }\n",
       "</style>\n",
       "<table border=\"1\" class=\"dataframe\">\n",
       "  <thead>\n",
       "    <tr style=\"text-align: right;\">\n",
       "      <th></th>\n",
       "      <th>strength_score</th>\n",
       "      <th>win_rate</th>\n",
       "    </tr>\n",
       "  </thead>\n",
       "  <tbody>\n",
       "    <tr>\n",
       "      <th>0</th>\n",
       "      <td>2.384710</td>\n",
       "      <td>0.56612</td>\n",
       "    </tr>\n",
       "    <tr>\n",
       "      <th>1</th>\n",
       "      <td>2.538540</td>\n",
       "      <td>0.61424</td>\n",
       "    </tr>\n",
       "    <tr>\n",
       "      <th>2</th>\n",
       "      <td>0.620816</td>\n",
       "      <td>0.01672</td>\n",
       "    </tr>\n",
       "    <tr>\n",
       "      <th>3</th>\n",
       "      <td>1.007760</td>\n",
       "      <td>0.29192</td>\n",
       "    </tr>\n",
       "    <tr>\n",
       "      <th>4</th>\n",
       "      <td>3.624700</td>\n",
       "      <td>0.81724</td>\n",
       "    </tr>\n",
       "    <tr>\n",
       "      <th>...</th>\n",
       "      <td>...</td>\n",
       "      <td>...</td>\n",
       "    </tr>\n",
       "    <tr>\n",
       "      <th>19995</th>\n",
       "      <td>1.623110</td>\n",
       "      <td>0.40412</td>\n",
       "    </tr>\n",
       "    <tr>\n",
       "      <th>19996</th>\n",
       "      <td>1.853880</td>\n",
       "      <td>0.48728</td>\n",
       "    </tr>\n",
       "    <tr>\n",
       "      <th>19997</th>\n",
       "      <td>0.852362</td>\n",
       "      <td>0.10932</td>\n",
       "    </tr>\n",
       "    <tr>\n",
       "      <th>19998</th>\n",
       "      <td>0.929285</td>\n",
       "      <td>0.10520</td>\n",
       "    </tr>\n",
       "    <tr>\n",
       "      <th>19999</th>\n",
       "      <td>3.855450</td>\n",
       "      <td>0.72780</td>\n",
       "    </tr>\n",
       "  </tbody>\n",
       "</table>\n",
       "<p>20000 rows × 2 columns</p>\n",
       "</div>"
      ],
      "text/plain": [
       "       strength_score  win_rate\n",
       "0            2.384710   0.56612\n",
       "1            2.538540   0.61424\n",
       "2            0.620816   0.01672\n",
       "3            1.007760   0.29192\n",
       "4            3.624700   0.81724\n",
       "...               ...       ...\n",
       "19995        1.623110   0.40412\n",
       "19996        1.853880   0.48728\n",
       "19997        0.852362   0.10932\n",
       "19998        0.929285   0.10520\n",
       "19999        3.855450   0.72780\n",
       "\n",
       "[20000 rows x 2 columns]"
      ]
     },
     "execution_count": 6,
     "metadata": {},
     "output_type": "execute_result"
    }
   ],
   "source": [
    "df"
   ]
  },
  {
   "cell_type": "code",
   "execution_count": 7,
   "id": "afa53c02",
   "metadata": {},
   "outputs": [
    {
     "data": {
      "text/plain": [
       "<matplotlib.collections.PathCollection at 0x276cd614f40>"
      ]
     },
     "execution_count": 7,
     "metadata": {},
     "output_type": "execute_result"
    },
    {
     "data": {
      "image/png": "[encoded data removed]",
      "text/plain": [
       "<Figure size 432x288 with 1 Axes>"
      ]
     },
     "metadata": {
      "needs_background": "light"
     },
     "output_type": "display_data"
    }
   ],
   "source": [
    "plt.scatter(df.strength_score, df.win_rate)"
   ]
  },
  {
   "cell_type": "code",
   "execution_count": 8,
   "id": "525b1603",
   "metadata": {},
   "outputs": [
    {
     "data": {
      "text/plain": [
       "6.23082"
      ]
     },
     "execution_count": 8,
     "metadata": {},
     "output_type": "execute_result"
    }
   ],
   "source": [
    "np.asarray(df.strength_score).max()"
   ]
  },
  {
   "cell_type": "code",
   "execution_count": 22,
   "id": "5e7b7c82",
   "metadata": {},
   "outputs": [
    {
     "name": "stderr",
     "output_type": "stream",
     "text": [
      "C:\\Users\\jeeva\\AppData\\Local\\Temp\\ipykernel_26636\\3157430040.py:5: RuntimeWarning: Mean of empty slice.\n",
      "  avg_win_rates.append(np.asarray(df_temp.strength_score).mean())\n"
     ]
    }
   ],
   "source": [
    "avg_win_rates = []\n",
    "for i in range(70):\n",
    "    df_temp = df[df.strength_score >=(i*0.1)]\n",
    "    df_temp = df_temp[df_temp.strength_score <((i+1) * 0.1)]\n",
    "    avg_win_rates.append(np.asarray(df_temp.strength_score).mean())"
   ]
  },
  {
   "cell_type": "code",
   "execution_count": 24,
   "id": "544495c3",
   "metadata": {},
   "outputs": [
    {
     "data": {
      "text/plain": [
       "<BarContainer object of 70 artists>"
      ]
     },
     "execution_count": 24,
     "metadata": {},
     "output_type": "execute_result"
    },
    {
     "data": {
      "image/png": "[encoded data removed]",
      "text/plain": [
       "<Figure size 432x288 with 1 Axes>"
      ]
     },
     "metadata": {
      "needs_background": "light"
     },
     "output_type": "display_data"
    }
   ],
   "source": [
    "plt.bar(range(70), avg_win_rates)"
   ]
  },
  {
   "cell_type": "code",
   "execution_count": 11,
   "id": "c43ad561",
   "metadata": {},
   "outputs": [
    {
     "name": "stderr",
     "output_type": "stream",
     "text": [
      "C:\\Users\\jeeva\\AppData\\Local\\Temp\\ipykernel_26636\\1153664904.py:5: RuntimeWarning: Mean of empty slice.\n",
      "  avg_win_rates.append(np.asarray(df_temp.strength_score).mean())\n"
     ]
    }
   ],
   "source": [
    "avg_win_rates = []\n",
    "for i in range(40):\n",
    "    df_temp = df[df.strength_score >=(i*0.1)]\n",
    "    df_temp = df_temp[df_temp.strength_score <((i+1) * 0.1)]\n",
    "    avg_win_rates.append(np.asarray(df_temp.strength_score).mean())\n",
    "    "
   ]
  },
  {
   "cell_type": "code",
   "execution_count": 12,
   "id": "ef304b37",
   "metadata": {},
   "outputs": [
    {
     "data": {
      "text/plain": [
       "<BarContainer object of 40 artists>"
      ]
     },
     "execution_count": 12,
     "metadata": {},
     "output_type": "execute_result"
    },
    {
     "data": {
      "image/png": "[encoded data removed]",
      "text/plain": [
       "<Figure size 432x288 with 1 Axes>"
      ]
     },
     "metadata": {
      "needs_background": "light"
     },
     "output_type": "display_data"
    }
   ],
   "source": [
    "plt.bar(range(40), avg_win_rates)"
   ]
  },
  {
   "cell_type": "code",
   "execution_count": 16,
   "id": "664be2ae",
   "metadata": {},
   "outputs": [],
   "source": [
    "df_under_4 = df[df.strength_score <=4]"
   ]
  },
  {
   "cell_type": "code",
   "execution_count": 17,
   "id": "3708dce0",
   "metadata": {},
   "outputs": [
    {
     "data": {
      "text/plain": [
       "<matplotlib.collections.PathCollection at 0x276cd821a80>"
      ]
     },
     "execution_count": 17,
     "metadata": {},
     "output_type": "execute_result"
    },
    {
     "data": {
      "image/png": "[encoded data removed]",
      "text/plain": [
       "<Figure size 432x288 with 1 Axes>"
      ]
     },
     "metadata": {
      "needs_background": "light"
     },
     "output_type": "display_data"
    }
   ],
   "source": [
    "plt.scatter(df_under_4.strength_score, df_under_4.win_rate)"
   ]
  },
  {
   "cell_type": "code",
   "execution_count": 18,
   "id": "bfaa3ab7",
   "metadata": {},
   "outputs": [],
   "source": [
    "df_under_2 = df[df.strength_score <=2]"
   ]
  },
  {
   "cell_type": "code",
   "execution_count": 19,
   "id": "fdb786ec",
   "metadata": {},
   "outputs": [
    {
     "data": {
      "text/plain": [
       "<matplotlib.collections.PathCollection at 0x276cd974880>"
      ]
     },
     "execution_count": 19,
     "metadata": {},
     "output_type": "execute_result"
    },
    {
     "data": {
      "image/png": "[encoded data removed]",
      "text/plain": [
       "<Figure size 432x288 with 1 Axes>"
      ]
     },
     "metadata": {
      "needs_background": "light"
     },
     "output_type": "display_data"
    }
   ],
   "source": [
    "plt.scatter(df_under_2.strength_score, df_under_2.win_rate)"
   ]
  },
  {
   "cell_type": "code",
   "execution_count": 20,
   "id": "b011a1e8",
   "metadata": {},
   "outputs": [
    {
     "name": "stderr",
     "output_type": "stream",
     "text": [
      "C:\\Users\\jeeva\\AppData\\Local\\Temp\\ipykernel_26636\\943877404.py:5: RuntimeWarning: Mean of empty slice.\n",
      "  avg_win_rates.append(np.asarray(df_temp.strength_score).mean())\n"
     ]
    }
   ],
   "source": [
    "avg_win_rates = []\n",
    "for i in range(20):\n",
    "    df_temp = df[df.strength_score >=(i*0.1)]\n",
    "    df_temp = df_temp[df_temp.strength_score <((i+1) * 0.1)]\n",
    "    avg_win_rates.append(np.asarray(df_temp.strength_score).mean())"
   ]
  },
  {
   "cell_type": "code",
   "execution_count": 21,
   "id": "8148f34e",
   "metadata": {},
   "outputs": [
    {
     "data": {
      "text/plain": [
       "<BarContainer object of 20 artists>"
      ]
     },
     "execution_count": 21,
     "metadata": {},
     "output_type": "execute_result"
    },
    {
     "data": {
      "image/png": "[encoded data removed]",
      "text/plain": [
       "<Figure size 432x288 with 1 Axes>"
      ]
     },
     "metadata": {
      "needs_background": "light"
     },
     "output_type": "display_data"
    }
   ],
   "source": [
    "plt.bar(range(20), avg_win_rates)"
   ]
  },
  {
   "cell_type": "code",
   "execution_count": 26,
   "id": "34e71b8e",
   "metadata": {},
   "outputs": [],
   "source": [
    "strength_vals = np.asarray(df.strength_score).reshape(-1,1)"
   ]
  },
  {
   "cell_type": "code",
   "execution_count": 30,
   "id": "9ab6d797",
   "metadata": {},
   "outputs": [
    {
     "data": {
      "text/plain": [
       "array([[2.38471 ],\n",
       "       [2.53854 ],\n",
       "       [0.620816],\n",
       "       ...,\n",
       "       [0.852362],\n",
       "       [0.929285],\n",
       "       [3.85545 ]])"
      ]
     },
     "execution_count": 30,
     "metadata": {},
     "output_type": "execute_result"
    }
   ],
   "source": [
    "strength_vals"
   ]
  },
  {
   "cell_type": "code",
   "execution_count": 36,
   "id": "aec198f4",
   "metadata": {},
   "outputs": [],
   "source": [
    "log_strength = np.log(strength_vals)#np.log is the natural log"
   ]
  },
  {
   "cell_type": "code",
   "execution_count": 37,
   "id": "24eea34f",
   "metadata": {},
   "outputs": [
    {
     "data": {
      "text/plain": [
       "array([[ 0.86907752],\n",
       "       [ 0.93158911],\n",
       "       [-0.47672054],\n",
       "       ...,\n",
       "       [-0.15974396],\n",
       "       [-0.07333981],\n",
       "       [ 1.34948773]])"
      ]
     },
     "execution_count": 37,
     "metadata": {},
     "output_type": "execute_result"
    }
   ],
   "source": [
    "log_strength"
   ]
  },
  {
   "cell_type": "code",
   "execution_count": 40,
   "id": "21a2ef02",
   "metadata": {},
   "outputs": [],
   "source": [
    "df_log = df\n",
    "df_log['log_strength'] = log_strength"
   ]
  },
  {
   "cell_type": "code",
   "execution_count": 41,
   "id": "937cf260",
   "metadata": {},
   "outputs": [
    {
     "data": {
      "text/html": [
       "<div>\n",
       "<style scoped>\n",
       "    .dataframe tbody tr th:only-of-type {\n",
       "        vertical-align: middle;\n",
       "    }\n",
       "\n",
       "    .dataframe tbody tr th {\n",
       "        vertical-align: top;\n",
       "    }\n",
       "\n",
       "    .dataframe thead th {\n",
       "        text-align: right;\n",
       "    }\n",
       "</style>\n",
       "<table border=\"1\" class=\"dataframe\">\n",
       "  <thead>\n",
       "    <tr style=\"text-align: right;\">\n",
       "      <th></th>\n",
       "      <th>strength_score</th>\n",
       "      <th>win_rate</th>\n",
       "      <th>log_strength</th>\n",
       "    </tr>\n",
       "  </thead>\n",
       "  <tbody>\n",
       "    <tr>\n",
       "      <th>0</th>\n",
       "      <td>2.384710</td>\n",
       "      <td>0.56612</td>\n",
       "      <td>0.869078</td>\n",
       "    </tr>\n",
       "    <tr>\n",
       "      <th>1</th>\n",
       "      <td>2.538540</td>\n",
       "      <td>0.61424</td>\n",
       "      <td>0.931589</td>\n",
       "    </tr>\n",
       "    <tr>\n",
       "      <th>2</th>\n",
       "      <td>0.620816</td>\n",
       "      <td>0.01672</td>\n",
       "      <td>-0.476721</td>\n",
       "    </tr>\n",
       "    <tr>\n",
       "      <th>3</th>\n",
       "      <td>1.007760</td>\n",
       "      <td>0.29192</td>\n",
       "      <td>0.007730</td>\n",
       "    </tr>\n",
       "    <tr>\n",
       "      <th>4</th>\n",
       "      <td>3.624700</td>\n",
       "      <td>0.81724</td>\n",
       "      <td>1.287772</td>\n",
       "    </tr>\n",
       "    <tr>\n",
       "      <th>...</th>\n",
       "      <td>...</td>\n",
       "      <td>...</td>\n",
       "      <td>...</td>\n",
       "    </tr>\n",
       "    <tr>\n",
       "      <th>19995</th>\n",
       "      <td>1.623110</td>\n",
       "      <td>0.40412</td>\n",
       "      <td>0.484344</td>\n",
       "    </tr>\n",
       "    <tr>\n",
       "      <th>19996</th>\n",
       "      <td>1.853880</td>\n",
       "      <td>0.48728</td>\n",
       "      <td>0.617281</td>\n",
       "    </tr>\n",
       "    <tr>\n",
       "      <th>19997</th>\n",
       "      <td>0.852362</td>\n",
       "      <td>0.10932</td>\n",
       "      <td>-0.159744</td>\n",
       "    </tr>\n",
       "    <tr>\n",
       "      <th>19998</th>\n",
       "      <td>0.929285</td>\n",
       "      <td>0.10520</td>\n",
       "      <td>-0.073340</td>\n",
       "    </tr>\n",
       "    <tr>\n",
       "      <th>19999</th>\n",
       "      <td>3.855450</td>\n",
       "      <td>0.72780</td>\n",
       "      <td>1.349488</td>\n",
       "    </tr>\n",
       "  </tbody>\n",
       "</table>\n",
       "<p>20000 rows × 3 columns</p>\n",
       "</div>"
      ],
      "text/plain": [
       "       strength_score  win_rate  log_strength\n",
       "0            2.384710   0.56612      0.869078\n",
       "1            2.538540   0.61424      0.931589\n",
       "2            0.620816   0.01672     -0.476721\n",
       "3            1.007760   0.29192      0.007730\n",
       "4            3.624700   0.81724      1.287772\n",
       "...               ...       ...           ...\n",
       "19995        1.623110   0.40412      0.484344\n",
       "19996        1.853880   0.48728      0.617281\n",
       "19997        0.852362   0.10932     -0.159744\n",
       "19998        0.929285   0.10520     -0.073340\n",
       "19999        3.855450   0.72780      1.349488\n",
       "\n",
       "[20000 rows x 3 columns]"
      ]
     },
     "execution_count": 41,
     "metadata": {},
     "output_type": "execute_result"
    }
   ],
   "source": [
    "df_log"
   ]
  },
  {
   "cell_type": "code",
   "execution_count": 42,
   "id": "042556bc",
   "metadata": {},
   "outputs": [],
   "source": [
    "df_log_train = df_log.drop(['win_rate'], axis = 1)"
   ]
  },
  {
   "cell_type": "code",
   "execution_count": 49,
   "id": "dbd70cd2",
   "metadata": {},
   "outputs": [
    {
     "data": {
      "text/html": [
       "<div>\n",
       "<style scoped>\n",
       "    .dataframe tbody tr th:only-of-type {\n",
       "        vertical-align: middle;\n",
       "    }\n",
       "\n",
       "    .dataframe tbody tr th {\n",
       "        vertical-align: top;\n",
       "    }\n",
       "\n",
       "    .dataframe thead th {\n",
       "        text-align: right;\n",
       "    }\n",
       "</style>\n",
       "<table border=\"1\" class=\"dataframe\">\n",
       "  <thead>\n",
       "    <tr style=\"text-align: right;\">\n",
       "      <th></th>\n",
       "      <th>strength_score</th>\n",
       "      <th>log_strength</th>\n",
       "    </tr>\n",
       "  </thead>\n",
       "  <tbody>\n",
       "    <tr>\n",
       "      <th>0</th>\n",
       "      <td>2.384710</td>\n",
       "      <td>0.869078</td>\n",
       "    </tr>\n",
       "    <tr>\n",
       "      <th>1</th>\n",
       "      <td>2.538540</td>\n",
       "      <td>0.931589</td>\n",
       "    </tr>\n",
       "    <tr>\n",
       "      <th>2</th>\n",
       "      <td>0.620816</td>\n",
       "      <td>-0.476721</td>\n",
       "    </tr>\n",
       "    <tr>\n",
       "      <th>3</th>\n",
       "      <td>1.007760</td>\n",
       "      <td>0.007730</td>\n",
       "    </tr>\n",
       "    <tr>\n",
       "      <th>4</th>\n",
       "      <td>3.624700</td>\n",
       "      <td>1.287772</td>\n",
       "    </tr>\n",
       "    <tr>\n",
       "      <th>...</th>\n",
       "      <td>...</td>\n",
       "      <td>...</td>\n",
       "    </tr>\n",
       "    <tr>\n",
       "      <th>19995</th>\n",
       "      <td>1.623110</td>\n",
       "      <td>0.484344</td>\n",
       "    </tr>\n",
       "    <tr>\n",
       "      <th>19996</th>\n",
       "      <td>1.853880</td>\n",
       "      <td>0.617281</td>\n",
       "    </tr>\n",
       "    <tr>\n",
       "      <th>19997</th>\n",
       "      <td>0.852362</td>\n",
       "      <td>-0.159744</td>\n",
       "    </tr>\n",
       "    <tr>\n",
       "      <th>19998</th>\n",
       "      <td>0.929285</td>\n",
       "      <td>-0.073340</td>\n",
       "    </tr>\n",
       "    <tr>\n",
       "      <th>19999</th>\n",
       "      <td>3.855450</td>\n",
       "      <td>1.349488</td>\n",
       "    </tr>\n",
       "  </tbody>\n",
       "</table>\n",
       "<p>20000 rows × 2 columns</p>\n",
       "</div>"
      ],
      "text/plain": [
       "       strength_score  log_strength\n",
       "0            2.384710      0.869078\n",
       "1            2.538540      0.931589\n",
       "2            0.620816     -0.476721\n",
       "3            1.007760      0.007730\n",
       "4            3.624700      1.287772\n",
       "...               ...           ...\n",
       "19995        1.623110      0.484344\n",
       "19996        1.853880      0.617281\n",
       "19997        0.852362     -0.159744\n",
       "19998        0.929285     -0.073340\n",
       "19999        3.855450      1.349488\n",
       "\n",
       "[20000 rows x 2 columns]"
      ]
     },
     "execution_count": 49,
     "metadata": {},
     "output_type": "execute_result"
    }
   ],
   "source": [
    "df_log_train"
   ]
  },
  {
   "cell_type": "code",
   "execution_count": 43,
   "id": "c04fe9bf",
   "metadata": {},
   "outputs": [],
   "source": [
    "X_train, X_test, y_train, y_test = tts(df_log_train, df.win_rate, test_size = 0.2)"
   ]
  },
  {
   "cell_type": "code",
   "execution_count": 44,
   "id": "4946d06d",
   "metadata": {},
   "outputs": [
    {
     "data": {
      "text/plain": [
       "LinearRegression()"
      ]
     },
     "execution_count": 44,
     "metadata": {},
     "output_type": "execute_result"
    }
   ],
   "source": [
    "LR = LinearRegression()\n",
    "LR.fit(X_train, y_train)"
   ]
  },
  {
   "cell_type": "code",
   "execution_count": 45,
   "id": "e5700425",
   "metadata": {},
   "outputs": [
    {
     "data": {
      "text/plain": [
       "0.9310995734761122"
      ]
     },
     "execution_count": 45,
     "metadata": {},
     "output_type": "execute_result"
    }
   ],
   "source": [
    "LR.score(X_test, y_test)"
   ]
  },
  {
   "cell_type": "code",
   "execution_count": 46,
   "id": "fb89b5e5",
   "metadata": {},
   "outputs": [
    {
     "data": {
      "text/plain": [
       "array([-0.05574417,  0.50187506])"
      ]
     },
     "execution_count": 46,
     "metadata": {},
     "output_type": "execute_result"
    }
   ],
   "source": [
    "LR.coef_#coef values to convert any strength score into a corresponding win rate with fairly good accuracy"
   ]
  },
  {
   "cell_type": "code",
   "execution_count": 48,
   "id": "377ab204",
   "metadata": {},
   "outputs": [
    {
     "data": {
      "text/plain": [
       "0.29152419686993136"
      ]
     },
     "execution_count": 48,
     "metadata": {},
     "output_type": "execute_result"
    }
   ],
   "source": [
    "LR.intercept_"
   ]
  }
 ],
 "metadata": {
  "kernelspec": {
   "display_name": "Python 3 (ipykernel)",
   "language": "python",
   "name": "python3"
  },
  "language_info": {
   "codemirror_mode": {
    "name": "ipython",
    "version": 3
   },
   "file_extension": ".py",
   "mimetype": "text/x-python",
   "name": "python",
   "nbconvert_exporter": "python",
   "pygments_lexer": "ipython3",
   "version": "3.10.2"
  }
 },
 "nbformat": 4,
 "nbformat_minor": 5
}
